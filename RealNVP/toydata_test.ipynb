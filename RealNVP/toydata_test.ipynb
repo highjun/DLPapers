{
 "metadata": {
  "language_info": {
   "codemirror_mode": {
    "name": "ipython",
    "version": 3
   },
   "file_extension": ".py",
   "mimetype": "text/x-python",
   "name": "python",
   "nbconvert_exporter": "python",
   "pygments_lexer": "ipython3",
   "version": "3.8.5-final"
  },
  "orig_nbformat": 2,
  "kernelspec": {
   "name": "python3",
   "display_name": "Python 3",
   "language": "python"
  }
 },
 "nbformat": 4,
 "nbformat_minor": 2,
 "cells": [
  {
   "cell_type": "code",
   "execution_count": 1,
   "metadata": {},
   "outputs": [],
   "source": [
    "import torch\n",
    "import torch.nn as nn\n",
    "from torch.nn.parameter import Parameter\n",
    "import torch.nn.functional as F\n",
    "\n",
    "import numpy as np \n",
    "import pandas as pd \n",
    "import matplotlib.pyplot as plt"
   ]
  },
  {
   "cell_type": "code",
   "execution_count": 2,
   "metadata": {},
   "outputs": [
    {
     "output_type": "stream",
     "name": "stdout",
     "text": [
      "(299, 2)\n"
     ]
    },
    {
     "output_type": "display_data",
     "data": {
      "text/plain": "<Figure size 432x288 with 1 Axes>",
      "image/svg+xml": "<?xml version=\"1.0\" encoding=\"utf-8\" standalone=\"no\"?>\n<!DOCTYPE svg PUBLIC \"-//W3C//DTD SVG 1.1//EN\"\n  \"http://www.w3.org/Graphics/SVG/1.1/DTD/svg11.dtd\">\n<!-- Created with matplotlib (https://matplotlib.org/) -->\n<svg height=\"248.518125pt\" version=\"1.1\" viewBox=\"0 0 384.87821 248.518125\" width=\"384.87821pt\" xmlns=\"http://www.w3.org/2000/svg\" xmlns:xlink=\"http://www.w3.org/1999/xlink\">\n <metadata>\n  <rdf:RDF xmlns:cc=\"http://creativecommons.org/ns#\" xmlns:dc=\"http://purl.org/dc/elements/1.1/\" xmlns:rdf=\"http://www.w3.org/1999/02/22-rdf-syntax-ns#\">\n   <cc:Work>\n    <dc:type rdf:resource=\"http://purl.org/dc/dcmitype/StillImage\"/>\n    <dc:date>2021-01-16T20:49:15.630558</dc:date>\n    <dc:format>image/svg+xml</dc:format>\n    <dc:creator>\n     <cc:Agent>\n      <dc:title>Matplotlib v3.3.2, https://matplotlib.org/</dc:title>\n     </cc:Agent>\n    </dc:creator>\n   </cc:Work>\n  </rdf:RDF>\n </metadata>\n <defs>\n  <style type=\"text/css\">*{stroke-linecap:butt;stroke-linejoin:round;}</style>\n </defs>\n <g id=\"figure_1\">\n  <g id=\"patch_1\">\n   <path d=\"M -0 248.518125 \nL 384.87821 248.518125 \nL 384.87821 0 \nL -0 0 \nz\n\" style=\"fill:none;\"/>\n  </g>\n  <g id=\"axes_1\">\n   <g id=\"patch_2\">\n    <path d=\"M 38.482813 224.64 \nL 373.282813 224.64 \nL 373.282813 7.2 \nL 38.482813 7.2 \nz\n\" style=\"fill:#ffffff;\"/>\n   </g>\n   <g id=\"PathCollection_1\">\n    <defs>\n     <path d=\"M 0 3 \nC 0.795609 3 1.55874 2.683901 2.12132 2.12132 \nC 2.683901 1.55874 3 0.795609 3 0 \nC 3 -0.795609 2.683901 -1.55874 2.12132 -2.12132 \nC 1.55874 -2.683901 0.795609 -3 0 -3 \nC -0.795609 -3 -1.55874 -2.683901 -2.12132 -2.12132 \nC -2.683901 -1.55874 -3 -0.795609 -3 0 \nC -3 0.795609 -2.683901 1.55874 -2.12132 2.12132 \nC -1.55874 2.683901 -0.795609 3 0 3 \nz\n\" id=\"mfb8496ef96\" style=\"stroke:#1f77b4;\"/>\n    </defs>\n    <g clip-path=\"url(#pada473b129)\">\n     <use style=\"fill:#1f77b4;stroke:#1f77b4;\" x=\"148.835222\" xlink:href=\"#mfb8496ef96\" y=\"36.189354\"/>\n     <use style=\"fill:#1f77b4;stroke:#1f77b4;\" x=\"238.639801\" xlink:href=\"#mfb8496ef96\" y=\"183.524106\"/>\n     <use style=\"fill:#1f77b4;stroke:#1f77b4;\" x=\"163.868834\" xlink:href=\"#mfb8496ef96\" y=\"31.823093\"/>\n     <use style=\"fill:#1f77b4;stroke:#1f77b4;\" x=\"269.212242\" xlink:href=\"#mfb8496ef96\" y=\"189.713656\"/>\n     <use style=\"fill:#1f77b4;stroke:#1f77b4;\" x=\"325.539339\" xlink:href=\"#mfb8496ef96\" y=\"169.443986\"/>\n     <use style=\"fill:#1f77b4;stroke:#1f77b4;\" x=\"173.498629\" xlink:href=\"#mfb8496ef96\" y=\"30.452459\"/>\n     <use style=\"fill:#1f77b4;stroke:#1f77b4;\" x=\"157.876693\" xlink:href=\"#mfb8496ef96\" y=\"45.54809\"/>\n     <use style=\"fill:#1f77b4;stroke:#1f77b4;\" x=\"262.860553\" xlink:href=\"#mfb8496ef96\" y=\"193.65499\"/>\n     <use style=\"fill:#1f77b4;stroke:#1f77b4;\" x=\"75.351617\" xlink:href=\"#mfb8496ef96\" y=\"69.08889\"/>\n     <use style=\"fill:#1f77b4;stroke:#1f77b4;\" x=\"189.033216\" xlink:href=\"#mfb8496ef96\" y=\"174.212548\"/>\n     <use style=\"fill:#1f77b4;stroke:#1f77b4;\" x=\"295.531471\" xlink:href=\"#mfb8496ef96\" y=\"176.149297\"/>\n     <use style=\"fill:#1f77b4;stroke:#1f77b4;\" x=\"230.70959\" xlink:href=\"#mfb8496ef96\" y=\"96.066176\"/>\n     <use style=\"fill:#1f77b4;stroke:#1f77b4;\" x=\"340.436103\" xlink:href=\"#mfb8496ef96\" y=\"149.584459\"/>\n     <use style=\"fill:#1f77b4;stroke:#1f77b4;\" x=\"137.619173\" xlink:href=\"#mfb8496ef96\" y=\"31.477084\"/>\n     <use style=\"fill:#1f77b4;stroke:#1f77b4;\" x=\"223.154711\" xlink:href=\"#mfb8496ef96\" y=\"46.501766\"/>\n     <use style=\"fill:#1f77b4;stroke:#1f77b4;\" x=\"81.259378\" xlink:href=\"#mfb8496ef96\" y=\"66.870953\"/>\n     <use style=\"fill:#1f77b4;stroke:#1f77b4;\" x=\"139.225686\" xlink:href=\"#mfb8496ef96\" y=\"41.547042\"/>\n     <use style=\"fill:#1f77b4;stroke:#1f77b4;\" x=\"316.046797\" xlink:href=\"#mfb8496ef96\" y=\"174.93584\"/>\n     <use style=\"fill:#1f77b4;stroke:#1f77b4;\" x=\"238.420427\" xlink:href=\"#mfb8496ef96\" y=\"193.43804\"/>\n     <use style=\"fill:#1f77b4;stroke:#1f77b4;\" x=\"117.441701\" xlink:href=\"#mfb8496ef96\" y=\"53.732397\"/>\n     <use style=\"fill:#1f77b4;stroke:#1f77b4;\" x=\"209.336198\" xlink:href=\"#mfb8496ef96\" y=\"177.831809\"/>\n     <use style=\"fill:#1f77b4;stroke:#1f77b4;\" x=\"158.740057\" xlink:href=\"#mfb8496ef96\" y=\"34.566975\"/>\n     <use style=\"fill:#1f77b4;stroke:#1f77b4;\" x=\"192.182731\" xlink:href=\"#mfb8496ef96\" y=\"62.183463\"/>\n     <use style=\"fill:#1f77b4;stroke:#1f77b4;\" x=\"189.795705\" xlink:href=\"#mfb8496ef96\" y=\"41.827709\"/>\n     <use style=\"fill:#1f77b4;stroke:#1f77b4;\" x=\"192.928703\" xlink:href=\"#mfb8496ef96\" y=\"162.029856\"/>\n     <use style=\"fill:#1f77b4;stroke:#1f77b4;\" x=\"131.0058\" xlink:href=\"#mfb8496ef96\" y=\"37.889095\"/>\n     <use style=\"fill:#1f77b4;stroke:#1f77b4;\" x=\"77.318658\" xlink:href=\"#mfb8496ef96\" y=\"67.912661\"/>\n     <use style=\"fill:#1f77b4;stroke:#1f77b4;\" x=\"230.586111\" xlink:href=\"#mfb8496ef96\" y=\"198.477485\"/>\n     <use style=\"fill:#1f77b4;stroke:#1f77b4;\" x=\"306.965461\" xlink:href=\"#mfb8496ef96\" y=\"174.194301\"/>\n     <use style=\"fill:#1f77b4;stroke:#1f77b4;\" x=\"132.633929\" xlink:href=\"#mfb8496ef96\" y=\"40.532919\"/>\n     <use style=\"fill:#1f77b4;stroke:#1f77b4;\" x=\"157.784321\" xlink:href=\"#mfb8496ef96\" y=\"50.985632\"/>\n     <use style=\"fill:#1f77b4;stroke:#1f77b4;\" x=\"168.680242\" xlink:href=\"#mfb8496ef96\" y=\"127.482753\"/>\n     <use style=\"fill:#1f77b4;stroke:#1f77b4;\" x=\"219.241408\" xlink:href=\"#mfb8496ef96\" y=\"186.27771\"/>\n     <use style=\"fill:#1f77b4;stroke:#1f77b4;\" x=\"273.272011\" xlink:href=\"#mfb8496ef96\" y=\"182.554548\"/>\n     <use style=\"fill:#1f77b4;stroke:#1f77b4;\" x=\"282.50504\" xlink:href=\"#mfb8496ef96\" y=\"200.711073\"/>\n     <use style=\"fill:#1f77b4;stroke:#1f77b4;\" x=\"92.474652\" xlink:href=\"#mfb8496ef96\" y=\"38.210373\"/>\n     <use style=\"fill:#1f77b4;stroke:#1f77b4;\" x=\"182.533044\" xlink:href=\"#mfb8496ef96\" y=\"39.332229\"/>\n     <use style=\"fill:#1f77b4;stroke:#1f77b4;\" x=\"318.367256\" xlink:href=\"#mfb8496ef96\" y=\"180.872762\"/>\n     <use style=\"fill:#1f77b4;stroke:#1f77b4;\" x=\"293.545521\" xlink:href=\"#mfb8496ef96\" y=\"197.44863\"/>\n     <use style=\"fill:#1f77b4;stroke:#1f77b4;\" x=\"253.936416\" xlink:href=\"#mfb8496ef96\" y=\"198.599198\"/>\n     <use style=\"fill:#1f77b4;stroke:#1f77b4;\" x=\"89.942919\" xlink:href=\"#mfb8496ef96\" y=\"52.833027\"/>\n     <use style=\"fill:#1f77b4;stroke:#1f77b4;\" x=\"121.985092\" xlink:href=\"#mfb8496ef96\" y=\"31.571256\"/>\n     <use style=\"fill:#1f77b4;stroke:#1f77b4;\" x=\"196.568434\" xlink:href=\"#mfb8496ef96\" y=\"51.909821\"/>\n     <use style=\"fill:#1f77b4;stroke:#1f77b4;\" x=\"200.396884\" xlink:href=\"#mfb8496ef96\" y=\"189.184524\"/>\n     <use style=\"fill:#1f77b4;stroke:#1f77b4;\" x=\"284.662815\" xlink:href=\"#mfb8496ef96\" y=\"199.414771\"/>\n     <use style=\"fill:#1f77b4;stroke:#1f77b4;\" x=\"273.654318\" xlink:href=\"#mfb8496ef96\" y=\"182.941529\"/>\n     <use style=\"fill:#1f77b4;stroke:#1f77b4;\" x=\"93.29306\" xlink:href=\"#mfb8496ef96\" y=\"52.230515\"/>\n     <use style=\"fill:#1f77b4;stroke:#1f77b4;\" x=\"186.33978\" xlink:href=\"#mfb8496ef96\" y=\"33.204626\"/>\n     <use style=\"fill:#1f77b4;stroke:#1f77b4;\" x=\"209.469574\" xlink:href=\"#mfb8496ef96\" y=\"42.921044\"/>\n     <use style=\"fill:#1f77b4;stroke:#1f77b4;\" x=\"216.503803\" xlink:href=\"#mfb8496ef96\" y=\"186.845495\"/>\n     <use style=\"fill:#1f77b4;stroke:#1f77b4;\" x=\"174.390809\" xlink:href=\"#mfb8496ef96\" y=\"139.623833\"/>\n     <use style=\"fill:#1f77b4;stroke:#1f77b4;\" x=\"63.211228\" xlink:href=\"#mfb8496ef96\" y=\"105.19896\"/>\n     <use style=\"fill:#1f77b4;stroke:#1f77b4;\" x=\"356.420294\" xlink:href=\"#mfb8496ef96\" y=\"104.896431\"/>\n     <use style=\"fill:#1f77b4;stroke:#1f77b4;\" x=\"195.857139\" xlink:href=\"#mfb8496ef96\" y=\"191.269472\"/>\n     <use style=\"fill:#1f77b4;stroke:#1f77b4;\" x=\"169.31726\" xlink:href=\"#mfb8496ef96\" y=\"105.651238\"/>\n     <use style=\"fill:#1f77b4;stroke:#1f77b4;\" x=\"327.852616\" xlink:href=\"#mfb8496ef96\" y=\"184.410813\"/>\n     <use style=\"fill:#1f77b4;stroke:#1f77b4;\" x=\"142.155913\" xlink:href=\"#mfb8496ef96\" y=\"32.391131\"/>\n     <use style=\"fill:#1f77b4;stroke:#1f77b4;\" x=\"221.607209\" xlink:href=\"#mfb8496ef96\" y=\"190.732448\"/>\n     <use style=\"fill:#1f77b4;stroke:#1f77b4;\" x=\"202.759067\" xlink:href=\"#mfb8496ef96\" y=\"40.358402\"/>\n     <use style=\"fill:#1f77b4;stroke:#1f77b4;\" x=\"200.958766\" xlink:href=\"#mfb8496ef96\" y=\"39.355126\"/>\n     <use style=\"fill:#1f77b4;stroke:#1f77b4;\" x=\"194.622022\" xlink:href=\"#mfb8496ef96\" y=\"164.957389\"/>\n     <use style=\"fill:#1f77b4;stroke:#1f77b4;\" x=\"271.737371\" xlink:href=\"#mfb8496ef96\" y=\"199.055191\"/>\n     <use style=\"fill:#1f77b4;stroke:#1f77b4;\" x=\"285.250927\" xlink:href=\"#mfb8496ef96\" y=\"201.912541\"/>\n     <use style=\"fill:#1f77b4;stroke:#1f77b4;\" x=\"244.084754\" xlink:href=\"#mfb8496ef96\" y=\"113.509964\"/>\n     <use style=\"fill:#1f77b4;stroke:#1f77b4;\" x=\"258.42567\" xlink:href=\"#mfb8496ef96\" y=\"204.501725\"/>\n     <use style=\"fill:#1f77b4;stroke:#1f77b4;\" x=\"68.566762\" xlink:href=\"#mfb8496ef96\" y=\"88.950546\"/>\n     <use style=\"fill:#1f77b4;stroke:#1f77b4;\" x=\"224.532737\" xlink:href=\"#mfb8496ef96\" y=\"195.505687\"/>\n     <use style=\"fill:#1f77b4;stroke:#1f77b4;\" x=\"175.988619\" xlink:href=\"#mfb8496ef96\" y=\"55.248767\"/>\n     <use style=\"fill:#1f77b4;stroke:#1f77b4;\" x=\"89.050743\" xlink:href=\"#mfb8496ef96\" y=\"60.584741\"/>\n     <use style=\"fill:#1f77b4;stroke:#1f77b4;\" x=\"116.254297\" xlink:href=\"#mfb8496ef96\" y=\"48.159723\"/>\n     <use style=\"fill:#1f77b4;stroke:#1f77b4;\" x=\"345.751201\" xlink:href=\"#mfb8496ef96\" y=\"127.49464\"/>\n     <use style=\"fill:#1f77b4;stroke:#1f77b4;\" x=\"176.575786\" xlink:href=\"#mfb8496ef96\" y=\"143.702009\"/>\n     <use style=\"fill:#1f77b4;stroke:#1f77b4;\" x=\"296.114861\" xlink:href=\"#mfb8496ef96\" y=\"196.434751\"/>\n     <use style=\"fill:#1f77b4;stroke:#1f77b4;\" x=\"279.523738\" xlink:href=\"#mfb8496ef96\" y=\"188.471254\"/>\n     <use style=\"fill:#1f77b4;stroke:#1f77b4;\" x=\"306.06904\" xlink:href=\"#mfb8496ef96\" y=\"195.391129\"/>\n     <use style=\"fill:#1f77b4;stroke:#1f77b4;\" x=\"74.93552\" xlink:href=\"#mfb8496ef96\" y=\"72.303224\"/>\n     <use style=\"fill:#1f77b4;stroke:#1f77b4;\" x=\"174.620138\" xlink:href=\"#mfb8496ef96\" y=\"127.181817\"/>\n     <use style=\"fill:#1f77b4;stroke:#1f77b4;\" x=\"331.544584\" xlink:href=\"#mfb8496ef96\" y=\"169.520611\"/>\n     <use style=\"fill:#1f77b4;stroke:#1f77b4;\" x=\"241.909923\" xlink:href=\"#mfb8496ef96\" y=\"99.972839\"/>\n     <use style=\"fill:#1f77b4;stroke:#1f77b4;\" x=\"92.689341\" xlink:href=\"#mfb8496ef96\" y=\"44.428587\"/>\n     <use style=\"fill:#1f77b4;stroke:#1f77b4;\" x=\"214.439764\" xlink:href=\"#mfb8496ef96\" y=\"57.293707\"/>\n     <use style=\"fill:#1f77b4;stroke:#1f77b4;\" x=\"149.993904\" xlink:href=\"#mfb8496ef96\" y=\"51.839179\"/>\n     <use style=\"fill:#1f77b4;stroke:#1f77b4;\" x=\"232.901629\" xlink:href=\"#mfb8496ef96\" y=\"182.38417\"/>\n     <use style=\"fill:#1f77b4;stroke:#1f77b4;\" x=\"232.971387\" xlink:href=\"#mfb8496ef96\" y=\"74.986592\"/>\n     <use style=\"fill:#1f77b4;stroke:#1f77b4;\" x=\"354.401836\" xlink:href=\"#mfb8496ef96\" y=\"111.641613\"/>\n     <use style=\"fill:#1f77b4;stroke:#1f77b4;\" x=\"55.345385\" xlink:href=\"#mfb8496ef96\" y=\"119.835363\"/>\n     <use style=\"fill:#1f77b4;stroke:#1f77b4;\" x=\"155.246784\" xlink:href=\"#mfb8496ef96\" y=\"31.231818\"/>\n     <use style=\"fill:#1f77b4;stroke:#1f77b4;\" x=\"312.753878\" xlink:href=\"#mfb8496ef96\" y=\"180.862497\"/>\n     <use style=\"fill:#1f77b4;stroke:#1f77b4;\" x=\"318.128075\" xlink:href=\"#mfb8496ef96\" y=\"181.657864\"/>\n     <use style=\"fill:#1f77b4;stroke:#1f77b4;\" x=\"235.899221\" xlink:href=\"#mfb8496ef96\" y=\"106.219995\"/>\n     <use style=\"fill:#1f77b4;stroke:#1f77b4;\" x=\"165.429275\" xlink:href=\"#mfb8496ef96\" y=\"117.982505\"/>\n     <use style=\"fill:#1f77b4;stroke:#1f77b4;\" x=\"86.974256\" xlink:href=\"#mfb8496ef96\" y=\"66.873759\"/>\n     <use style=\"fill:#1f77b4;stroke:#1f77b4;\" x=\"86.243825\" xlink:href=\"#mfb8496ef96\" y=\"67.118671\"/>\n     <use style=\"fill:#1f77b4;stroke:#1f77b4;\" x=\"61.067598\" xlink:href=\"#mfb8496ef96\" y=\"127.577662\"/>\n     <use style=\"fill:#1f77b4;stroke:#1f77b4;\" x=\"241.724297\" xlink:href=\"#mfb8496ef96\" y=\"99.349413\"/>\n     <use style=\"fill:#1f77b4;stroke:#1f77b4;\" x=\"64.928154\" xlink:href=\"#mfb8496ef96\" y=\"100.164118\"/>\n     <use style=\"fill:#1f77b4;stroke:#1f77b4;\" x=\"176.83383\" xlink:href=\"#mfb8496ef96\" y=\"34.972409\"/>\n     <use style=\"fill:#1f77b4;stroke:#1f77b4;\" x=\"114.674281\" xlink:href=\"#mfb8496ef96\" y=\"38.661826\"/>\n     <use style=\"fill:#1f77b4;stroke:#1f77b4;\" x=\"145.731792\" xlink:href=\"#mfb8496ef96\" y=\"34.571917\"/>\n     <use style=\"fill:#1f77b4;stroke:#1f77b4;\" x=\"242.614381\" xlink:href=\"#mfb8496ef96\" y=\"196.532793\"/>\n     <use style=\"fill:#1f77b4;stroke:#1f77b4;\" x=\"237.893154\" xlink:href=\"#mfb8496ef96\" y=\"172.007982\"/>\n     <use style=\"fill:#1f77b4;stroke:#1f77b4;\" x=\"212.437852\" xlink:href=\"#mfb8496ef96\" y=\"189.209401\"/>\n     <use style=\"fill:#1f77b4;stroke:#1f77b4;\" x=\"294.154953\" xlink:href=\"#mfb8496ef96\" y=\"202.979457\"/>\n     <use style=\"fill:#1f77b4;stroke:#1f77b4;\" x=\"209.814463\" xlink:href=\"#mfb8496ef96\" y=\"47.683664\"/>\n     <use style=\"fill:#1f77b4;stroke:#1f77b4;\" x=\"66.941656\" xlink:href=\"#mfb8496ef96\" y=\"91.489255\"/>\n     <use style=\"fill:#1f77b4;stroke:#1f77b4;\" x=\"156.678689\" xlink:href=\"#mfb8496ef96\" y=\"45.564938\"/>\n     <use style=\"fill:#1f77b4;stroke:#1f77b4;\" x=\"54.790605\" xlink:href=\"#mfb8496ef96\" y=\"134.346997\"/>\n     <use style=\"fill:#1f77b4;stroke:#1f77b4;\" x=\"333.439331\" xlink:href=\"#mfb8496ef96\" y=\"144.064764\"/>\n     <use style=\"fill:#1f77b4;stroke:#1f77b4;\" x=\"312.029521\" xlink:href=\"#mfb8496ef96\" y=\"183.396829\"/>\n     <use style=\"fill:#1f77b4;stroke:#1f77b4;\" x=\"296.109768\" xlink:href=\"#mfb8496ef96\" y=\"189.123681\"/>\n     <use style=\"fill:#1f77b4;stroke:#1f77b4;\" x=\"250.075393\" xlink:href=\"#mfb8496ef96\" y=\"196.91424\"/>\n     <use style=\"fill:#1f77b4;stroke:#1f77b4;\" x=\"230.413155\" xlink:href=\"#mfb8496ef96\" y=\"208.990788\"/>\n     <use style=\"fill:#1f77b4;stroke:#1f77b4;\" x=\"198.227648\" xlink:href=\"#mfb8496ef96\" y=\"71.047836\"/>\n     <use style=\"fill:#1f77b4;stroke:#1f77b4;\" x=\"103.709276\" xlink:href=\"#mfb8496ef96\" y=\"47.377334\"/>\n     <use style=\"fill:#1f77b4;stroke:#1f77b4;\" x=\"206.358531\" xlink:href=\"#mfb8496ef96\" y=\"68.916158\"/>\n     <use style=\"fill:#1f77b4;stroke:#1f77b4;\" x=\"329.576341\" xlink:href=\"#mfb8496ef96\" y=\"180.115457\"/>\n     <use style=\"fill:#1f77b4;stroke:#1f77b4;\" x=\"214.514639\" xlink:href=\"#mfb8496ef96\" y=\"64.645676\"/>\n     <use style=\"fill:#1f77b4;stroke:#1f77b4;\" x=\"169.548484\" xlink:href=\"#mfb8496ef96\" y=\"54.254537\"/>\n     <use style=\"fill:#1f77b4;stroke:#1f77b4;\" x=\"211.941418\" xlink:href=\"#mfb8496ef96\" y=\"196.916108\"/>\n     <use style=\"fill:#1f77b4;stroke:#1f77b4;\" x=\"185.835934\" xlink:href=\"#mfb8496ef96\" y=\"31.443073\"/>\n     <use style=\"fill:#1f77b4;stroke:#1f77b4;\" x=\"150.362571\" xlink:href=\"#mfb8496ef96\" y=\"32.11472\"/>\n     <use style=\"fill:#1f77b4;stroke:#1f77b4;\" x=\"111.881206\" xlink:href=\"#mfb8496ef96\" y=\"30.762183\"/>\n     <use style=\"fill:#1f77b4;stroke:#1f77b4;\" x=\"167.976889\" xlink:href=\"#mfb8496ef96\" y=\"35.457325\"/>\n     <use style=\"fill:#1f77b4;stroke:#1f77b4;\" x=\"271.818652\" xlink:href=\"#mfb8496ef96\" y=\"201.998757\"/>\n     <use style=\"fill:#1f77b4;stroke:#1f77b4;\" x=\"353.226846\" xlink:href=\"#mfb8496ef96\" y=\"108.778783\"/>\n     <use style=\"fill:#1f77b4;stroke:#1f77b4;\" x=\"212.041468\" xlink:href=\"#mfb8496ef96\" y=\"58.288443\"/>\n     <use style=\"fill:#1f77b4;stroke:#1f77b4;\" x=\"354.790812\" xlink:href=\"#mfb8496ef96\" y=\"125.433661\"/>\n     <use style=\"fill:#1f77b4;stroke:#1f77b4;\" x=\"312.994439\" xlink:href=\"#mfb8496ef96\" y=\"185.184962\"/>\n     <use style=\"fill:#1f77b4;stroke:#1f77b4;\" x=\"118.411375\" xlink:href=\"#mfb8496ef96\" y=\"54.545461\"/>\n     <use style=\"fill:#1f77b4;stroke:#1f77b4;\" x=\"209.595257\" xlink:href=\"#mfb8496ef96\" y=\"45.25885\"/>\n     <use style=\"fill:#1f77b4;stroke:#1f77b4;\" x=\"260.783782\" xlink:href=\"#mfb8496ef96\" y=\"200.47315\"/>\n     <use style=\"fill:#1f77b4;stroke:#1f77b4;\" x=\"184.977576\" xlink:href=\"#mfb8496ef96\" y=\"154.371775\"/>\n     <use style=\"fill:#1f77b4;stroke:#1f77b4;\" x=\"318.857262\" xlink:href=\"#mfb8496ef96\" y=\"173.044991\"/>\n     <use style=\"fill:#1f77b4;stroke:#1f77b4;\" x=\"156.097506\" xlink:href=\"#mfb8496ef96\" y=\"41.345194\"/>\n     <use style=\"fill:#1f77b4;stroke:#1f77b4;\" x=\"194.547546\" xlink:href=\"#mfb8496ef96\" y=\"177.80597\"/>\n     <use style=\"fill:#1f77b4;stroke:#1f77b4;\" x=\"342.029678\" xlink:href=\"#mfb8496ef96\" y=\"145.921871\"/>\n     <use style=\"fill:#1f77b4;stroke:#1f77b4;\" x=\"171.412672\" xlink:href=\"#mfb8496ef96\" y=\"31.711661\"/>\n     <use style=\"fill:#1f77b4;stroke:#1f77b4;\" x=\"355.343802\" xlink:href=\"#mfb8496ef96\" y=\"122.670242\"/>\n     <use style=\"fill:#1f77b4;stroke:#1f77b4;\" x=\"64.821611\" xlink:href=\"#mfb8496ef96\" y=\"118.670532\"/>\n     <use style=\"fill:#1f77b4;stroke:#1f77b4;\" x=\"264.372088\" xlink:href=\"#mfb8496ef96\" y=\"190.599524\"/>\n     <use style=\"fill:#1f77b4;stroke:#1f77b4;\" x=\"69.972737\" xlink:href=\"#mfb8496ef96\" y=\"70.458731\"/>\n     <use style=\"fill:#1f77b4;stroke:#1f77b4;\" x=\"216.292372\" xlink:href=\"#mfb8496ef96\" y=\"50.246999\"/>\n     <use style=\"fill:#1f77b4;stroke:#1f77b4;\" x=\"79.349362\" xlink:href=\"#mfb8496ef96\" y=\"65.680272\"/>\n     <use style=\"fill:#1f77b4;stroke:#1f77b4;\" x=\"62.294714\" xlink:href=\"#mfb8496ef96\" y=\"98.636022\"/>\n     <use style=\"fill:#1f77b4;stroke:#1f77b4;\" x=\"355.626017\" xlink:href=\"#mfb8496ef96\" y=\"106.290314\"/>\n     <use style=\"fill:#1f77b4;stroke:#1f77b4;\" x=\"294.07378\" xlink:href=\"#mfb8496ef96\" y=\"196.833349\"/>\n     <use style=\"fill:#1f77b4;stroke:#1f77b4;\" x=\"169.844173\" xlink:href=\"#mfb8496ef96\" y=\"28.113318\"/>\n     <use style=\"fill:#1f77b4;stroke:#1f77b4;\" x=\"222.965205\" xlink:href=\"#mfb8496ef96\" y=\"56.099745\"/>\n     <use style=\"fill:#1f77b4;stroke:#1f77b4;\" x=\"260.729081\" xlink:href=\"#mfb8496ef96\" y=\"205.876996\"/>\n     <use style=\"fill:#1f77b4;stroke:#1f77b4;\" x=\"248.133919\" xlink:href=\"#mfb8496ef96\" y=\"214.756364\"/>\n     <use style=\"fill:#1f77b4;stroke:#1f77b4;\" x=\"297.090343\" xlink:href=\"#mfb8496ef96\" y=\"183.823598\"/>\n     <use style=\"fill:#1f77b4;stroke:#1f77b4;\" x=\"171.964193\" xlink:href=\"#mfb8496ef96\" y=\"135.464874\"/>\n     <use style=\"fill:#1f77b4;stroke:#1f77b4;\" x=\"212.015856\" xlink:href=\"#mfb8496ef96\" y=\"213.812731\"/>\n     <use style=\"fill:#1f77b4;stroke:#1f77b4;\" x=\"312.592504\" xlink:href=\"#mfb8496ef96\" y=\"180.747965\"/>\n     <use style=\"fill:#1f77b4;stroke:#1f77b4;\" x=\"273.837654\" xlink:href=\"#mfb8496ef96\" y=\"189.405654\"/>\n     <use style=\"fill:#1f77b4;stroke:#1f77b4;\" x=\"256.010757\" xlink:href=\"#mfb8496ef96\" y=\"199.797282\"/>\n     <use style=\"fill:#1f77b4;stroke:#1f77b4;\" x=\"229.913457\" xlink:href=\"#mfb8496ef96\" y=\"196.257729\"/>\n     <use style=\"fill:#1f77b4;stroke:#1f77b4;\" x=\"235.852372\" xlink:href=\"#mfb8496ef96\" y=\"192.33096\"/>\n     <use style=\"fill:#1f77b4;stroke:#1f77b4;\" x=\"275.394916\" xlink:href=\"#mfb8496ef96\" y=\"194.087853\"/>\n     <use style=\"fill:#1f77b4;stroke:#1f77b4;\" x=\"53.700994\" xlink:href=\"#mfb8496ef96\" y=\"140.337736\"/>\n     <use style=\"fill:#1f77b4;stroke:#1f77b4;\" x=\"329.686333\" xlink:href=\"#mfb8496ef96\" y=\"173.158172\"/>\n     <use style=\"fill:#1f77b4;stroke:#1f77b4;\" x=\"355.76493\" xlink:href=\"#mfb8496ef96\" y=\"115.35579\"/>\n     <use style=\"fill:#1f77b4;stroke:#1f77b4;\" x=\"268.873202\" xlink:href=\"#mfb8496ef96\" y=\"187.790434\"/>\n     <use style=\"fill:#1f77b4;stroke:#1f77b4;\" x=\"239.774792\" xlink:href=\"#mfb8496ef96\" y=\"213.551527\"/>\n     <use style=\"fill:#1f77b4;stroke:#1f77b4;\" x=\"119.921559\" xlink:href=\"#mfb8496ef96\" y=\"38.200714\"/>\n     <use style=\"fill:#1f77b4;stroke:#1f77b4;\" x=\"136.65025\" xlink:href=\"#mfb8496ef96\" y=\"52.875599\"/>\n     <use style=\"fill:#1f77b4;stroke:#1f77b4;\" x=\"307.7945\" xlink:href=\"#mfb8496ef96\" y=\"193.078432\"/>\n     <use style=\"fill:#1f77b4;stroke:#1f77b4;\" x=\"199.134202\" xlink:href=\"#mfb8496ef96\" y=\"165.132732\"/>\n     <use style=\"fill:#1f77b4;stroke:#1f77b4;\" x=\"166.60792\" xlink:href=\"#mfb8496ef96\" y=\"39.275881\"/>\n     <use style=\"fill:#1f77b4;stroke:#1f77b4;\" x=\"222.04972\" xlink:href=\"#mfb8496ef96\" y=\"65.017876\"/>\n     <use style=\"fill:#1f77b4;stroke:#1f77b4;\" x=\"295.139625\" xlink:href=\"#mfb8496ef96\" y=\"199.786056\"/>\n     <use style=\"fill:#1f77b4;stroke:#1f77b4;\" x=\"180.288328\" xlink:href=\"#mfb8496ef96\" y=\"39.709956\"/>\n     <use style=\"fill:#1f77b4;stroke:#1f77b4;\" x=\"289.336284\" xlink:href=\"#mfb8496ef96\" y=\"186.44069\"/>\n     <use style=\"fill:#1f77b4;stroke:#1f77b4;\" x=\"276.826336\" xlink:href=\"#mfb8496ef96\" y=\"200.253754\"/>\n     <use style=\"fill:#1f77b4;stroke:#1f77b4;\" x=\"144.73859\" xlink:href=\"#mfb8496ef96\" y=\"19.40547\"/>\n     <use style=\"fill:#1f77b4;stroke:#1f77b4;\" x=\"242.30974\" xlink:href=\"#mfb8496ef96\" y=\"99.265196\"/>\n     <use style=\"fill:#1f77b4;stroke:#1f77b4;\" x=\"247.433074\" xlink:href=\"#mfb8496ef96\" y=\"201.496635\"/>\n     <use style=\"fill:#1f77b4;stroke:#1f77b4;\" x=\"220.974626\" xlink:href=\"#mfb8496ef96\" y=\"65.071935\"/>\n     <use style=\"fill:#1f77b4;stroke:#1f77b4;\" x=\"174.312771\" xlink:href=\"#mfb8496ef96\" y=\"35.905343\"/>\n     <use style=\"fill:#1f77b4;stroke:#1f77b4;\" x=\"112.141559\" xlink:href=\"#mfb8496ef96\" y=\"27.663867\"/>\n     <use style=\"fill:#1f77b4;stroke:#1f77b4;\" x=\"332.553278\" xlink:href=\"#mfb8496ef96\" y=\"179.54226\"/>\n     <use style=\"fill:#1f77b4;stroke:#1f77b4;\" x=\"154.185557\" xlink:href=\"#mfb8496ef96\" y=\"45.552425\"/>\n     <use style=\"fill:#1f77b4;stroke:#1f77b4;\" x=\"263.219482\" xlink:href=\"#mfb8496ef96\" y=\"187.784759\"/>\n     <use style=\"fill:#1f77b4;stroke:#1f77b4;\" x=\"256.983871\" xlink:href=\"#mfb8496ef96\" y=\"189.125805\"/>\n     <use style=\"fill:#1f77b4;stroke:#1f77b4;\" x=\"82.458969\" xlink:href=\"#mfb8496ef96\" y=\"82.842323\"/>\n     <use style=\"fill:#1f77b4;stroke:#1f77b4;\" x=\"195.110597\" xlink:href=\"#mfb8496ef96\" y=\"185.307466\"/>\n     <use style=\"fill:#1f77b4;stroke:#1f77b4;\" x=\"133.206649\" xlink:href=\"#mfb8496ef96\" y=\"44.81224\"/>\n     <use style=\"fill:#1f77b4;stroke:#1f77b4;\" x=\"242.610533\" xlink:href=\"#mfb8496ef96\" y=\"178.618513\"/>\n     <use style=\"fill:#1f77b4;stroke:#1f77b4;\" x=\"128.821657\" xlink:href=\"#mfb8496ef96\" y=\"29.368357\"/>\n     <use style=\"fill:#1f77b4;stroke:#1f77b4;\" x=\"114.161039\" xlink:href=\"#mfb8496ef96\" y=\"40.01292\"/>\n     <use style=\"fill:#1f77b4;stroke:#1f77b4;\" x=\"174.975682\" xlink:href=\"#mfb8496ef96\" y=\"54.619318\"/>\n     <use style=\"fill:#1f77b4;stroke:#1f77b4;\" x=\"238.236687\" xlink:href=\"#mfb8496ef96\" y=\"185.85817\"/>\n     <use style=\"fill:#1f77b4;stroke:#1f77b4;\" x=\"139.293305\" xlink:href=\"#mfb8496ef96\" y=\"56.704443\"/>\n     <use style=\"fill:#1f77b4;stroke:#1f77b4;\" x=\"176.959414\" xlink:href=\"#mfb8496ef96\" y=\"43.710205\"/>\n     <use style=\"fill:#1f77b4;stroke:#1f77b4;\" x=\"191.595339\" xlink:href=\"#mfb8496ef96\" y=\"37.487097\"/>\n     <use style=\"fill:#1f77b4;stroke:#1f77b4;\" x=\"220.280267\" xlink:href=\"#mfb8496ef96\" y=\"197.891767\"/>\n     <use style=\"fill:#1f77b4;stroke:#1f77b4;\" x=\"138.235487\" xlink:href=\"#mfb8496ef96\" y=\"49.023873\"/>\n     <use style=\"fill:#1f77b4;stroke:#1f77b4;\" x=\"214.680115\" xlink:href=\"#mfb8496ef96\" y=\"60.525615\"/>\n     <use style=\"fill:#1f77b4;stroke:#1f77b4;\" x=\"193.715215\" xlink:href=\"#mfb8496ef96\" y=\"185.974309\"/>\n     <use style=\"fill:#1f77b4;stroke:#1f77b4;\" x=\"175.390701\" xlink:href=\"#mfb8496ef96\" y=\"132.823744\"/>\n     <use style=\"fill:#1f77b4;stroke:#1f77b4;\" x=\"179.629167\" xlink:href=\"#mfb8496ef96\" y=\"161.742734\"/>\n     <use style=\"fill:#1f77b4;stroke:#1f77b4;\" x=\"155.164692\" xlink:href=\"#mfb8496ef96\" y=\"39.208208\"/>\n     <use style=\"fill:#1f77b4;stroke:#1f77b4;\" x=\"153.010691\" xlink:href=\"#mfb8496ef96\" y=\"36.651721\"/>\n     <use style=\"fill:#1f77b4;stroke:#1f77b4;\" x=\"172.534723\" xlink:href=\"#mfb8496ef96\" y=\"40.671414\"/>\n     <use style=\"fill:#1f77b4;stroke:#1f77b4;\" x=\"263.422668\" xlink:href=\"#mfb8496ef96\" y=\"181.559641\"/>\n     <use style=\"fill:#1f77b4;stroke:#1f77b4;\" x=\"357.236454\" xlink:href=\"#mfb8496ef96\" y=\"101.041241\"/>\n     <use style=\"fill:#1f77b4;stroke:#1f77b4;\" x=\"264.410222\" xlink:href=\"#mfb8496ef96\" y=\"181.102234\"/>\n     <use style=\"fill:#1f77b4;stroke:#1f77b4;\" x=\"309.239361\" xlink:href=\"#mfb8496ef96\" y=\"184.942901\"/>\n     <use style=\"fill:#1f77b4;stroke:#1f77b4;\" x=\"319.022522\" xlink:href=\"#mfb8496ef96\" y=\"197.044622\"/>\n     <use style=\"fill:#1f77b4;stroke:#1f77b4;\" x=\"145.52017\" xlink:href=\"#mfb8496ef96\" y=\"52.213785\"/>\n     <use style=\"fill:#1f77b4;stroke:#1f77b4;\" x=\"285.674685\" xlink:href=\"#mfb8496ef96\" y=\"190.854281\"/>\n     <use style=\"fill:#1f77b4;stroke:#1f77b4;\" x=\"306.375538\" xlink:href=\"#mfb8496ef96\" y=\"187.677476\"/>\n     <use style=\"fill:#1f77b4;stroke:#1f77b4;\" x=\"345.850704\" xlink:href=\"#mfb8496ef96\" y=\"138.423632\"/>\n     <use style=\"fill:#1f77b4;stroke:#1f77b4;\" x=\"173.479214\" xlink:href=\"#mfb8496ef96\" y=\"30.969498\"/>\n     <use style=\"fill:#1f77b4;stroke:#1f77b4;\" x=\"161.827137\" xlink:href=\"#mfb8496ef96\" y=\"50.026085\"/>\n     <use style=\"fill:#1f77b4;stroke:#1f77b4;\" x=\"82.887431\" xlink:href=\"#mfb8496ef96\" y=\"65.102953\"/>\n     <use style=\"fill:#1f77b4;stroke:#1f77b4;\" x=\"255.910272\" xlink:href=\"#mfb8496ef96\" y=\"205.892176\"/>\n     <use style=\"fill:#1f77b4;stroke:#1f77b4;\" x=\"277.075286\" xlink:href=\"#mfb8496ef96\" y=\"196.908383\"/>\n     <use style=\"fill:#1f77b4;stroke:#1f77b4;\" x=\"217.98499\" xlink:href=\"#mfb8496ef96\" y=\"62.673037\"/>\n     <use style=\"fill:#1f77b4;stroke:#1f77b4;\" x=\"169.508757\" xlink:href=\"#mfb8496ef96\" y=\"35.039806\"/>\n     <use style=\"fill:#1f77b4;stroke:#1f77b4;\" x=\"245.288606\" xlink:href=\"#mfb8496ef96\" y=\"186.527918\"/>\n     <use style=\"fill:#1f77b4;stroke:#1f77b4;\" x=\"189.261402\" xlink:href=\"#mfb8496ef96\" y=\"17.083636\"/>\n     <use style=\"fill:#1f77b4;stroke:#1f77b4;\" x=\"131.222318\" xlink:href=\"#mfb8496ef96\" y=\"46.986777\"/>\n     <use style=\"fill:#1f77b4;stroke:#1f77b4;\" x=\"330.562313\" xlink:href=\"#mfb8496ef96\" y=\"177.872739\"/>\n     <use style=\"fill:#1f77b4;stroke:#1f77b4;\" x=\"211.327339\" xlink:href=\"#mfb8496ef96\" y=\"64.988098\"/>\n     <use style=\"fill:#1f77b4;stroke:#1f77b4;\" x=\"171.222123\" xlink:href=\"#mfb8496ef96\" y=\"147.84523\"/>\n     <use style=\"fill:#1f77b4;stroke:#1f77b4;\" x=\"111.337692\" xlink:href=\"#mfb8496ef96\" y=\"44.383314\"/>\n     <use style=\"fill:#1f77b4;stroke:#1f77b4;\" x=\"298.710906\" xlink:href=\"#mfb8496ef96\" y=\"194.975287\"/>\n     <use style=\"fill:#1f77b4;stroke:#1f77b4;\" x=\"358.064631\" xlink:href=\"#mfb8496ef96\" y=\"91.528114\"/>\n     <use style=\"fill:#1f77b4;stroke:#1f77b4;\" x=\"195.039565\" xlink:href=\"#mfb8496ef96\" y=\"170.804476\"/>\n     <use style=\"fill:#1f77b4;stroke:#1f77b4;\" x=\"161.571976\" xlink:href=\"#mfb8496ef96\" y=\"49.978204\"/>\n     <use style=\"fill:#1f77b4;stroke:#1f77b4;\" x=\"172.379195\" xlink:href=\"#mfb8496ef96\" y=\"36.318912\"/>\n     <use style=\"fill:#1f77b4;stroke:#1f77b4;\" x=\"273.402433\" xlink:href=\"#mfb8496ef96\" y=\"195.373394\"/>\n     <use style=\"fill:#1f77b4;stroke:#1f77b4;\" x=\"138.23463\" xlink:href=\"#mfb8496ef96\" y=\"17.900714\"/>\n     <use style=\"fill:#1f77b4;stroke:#1f77b4;\" x=\"287.929562\" xlink:href=\"#mfb8496ef96\" y=\"191.817147\"/>\n     <use style=\"fill:#1f77b4;stroke:#1f77b4;\" x=\"228.384489\" xlink:href=\"#mfb8496ef96\" y=\"75.47873\"/>\n     <use style=\"fill:#1f77b4;stroke:#1f77b4;\" x=\"225.106667\" xlink:href=\"#mfb8496ef96\" y=\"181.876369\"/>\n     <use style=\"fill:#1f77b4;stroke:#1f77b4;\" x=\"225.451334\" xlink:href=\"#mfb8496ef96\" y=\"58.809481\"/>\n     <use style=\"fill:#1f77b4;stroke:#1f77b4;\" x=\"197.206345\" xlink:href=\"#mfb8496ef96\" y=\"185.993868\"/>\n     <use style=\"fill:#1f77b4;stroke:#1f77b4;\" x=\"270.257547\" xlink:href=\"#mfb8496ef96\" y=\"199.330647\"/>\n     <use style=\"fill:#1f77b4;stroke:#1f77b4;\" x=\"112.270472\" xlink:href=\"#mfb8496ef96\" y=\"25.937829\"/>\n     <use style=\"fill:#1f77b4;stroke:#1f77b4;\" x=\"315.25969\" xlink:href=\"#mfb8496ef96\" y=\"202.351997\"/>\n     <use style=\"fill:#1f77b4;stroke:#1f77b4;\" x=\"164.171934\" xlink:href=\"#mfb8496ef96\" y=\"98.271623\"/>\n     <use style=\"fill:#1f77b4;stroke:#1f77b4;\" x=\"250.854038\" xlink:href=\"#mfb8496ef96\" y=\"181.143138\"/>\n     <use style=\"fill:#1f77b4;stroke:#1f77b4;\" x=\"323.821245\" xlink:href=\"#mfb8496ef96\" y=\"175.676781\"/>\n     <use style=\"fill:#1f77b4;stroke:#1f77b4;\" x=\"307.848543\" xlink:href=\"#mfb8496ef96\" y=\"202.005653\"/>\n     <use style=\"fill:#1f77b4;stroke:#1f77b4;\" x=\"159.505112\" xlink:href=\"#mfb8496ef96\" y=\"48.591551\"/>\n     <use style=\"fill:#1f77b4;stroke:#1f77b4;\" x=\"270.571848\" xlink:href=\"#mfb8496ef96\" y=\"184.403049\"/>\n     <use style=\"fill:#1f77b4;stroke:#1f77b4;\" x=\"308.875434\" xlink:href=\"#mfb8496ef96\" y=\"171.324796\"/>\n     <use style=\"fill:#1f77b4;stroke:#1f77b4;\" x=\"238.720951\" xlink:href=\"#mfb8496ef96\" y=\"203.113837\"/>\n     <use style=\"fill:#1f77b4;stroke:#1f77b4;\" x=\"171.376664\" xlink:href=\"#mfb8496ef96\" y=\"47.174991\"/>\n     <use style=\"fill:#1f77b4;stroke:#1f77b4;\" x=\"75.96387\" xlink:href=\"#mfb8496ef96\" y=\"82.752017\"/>\n     <use style=\"fill:#1f77b4;stroke:#1f77b4;\" x=\"86.829471\" xlink:href=\"#mfb8496ef96\" y=\"36.71385\"/>\n     <use style=\"fill:#1f77b4;stroke:#1f77b4;\" x=\"332.538653\" xlink:href=\"#mfb8496ef96\" y=\"162.806614\"/>\n     <use style=\"fill:#1f77b4;stroke:#1f77b4;\" x=\"299.618754\" xlink:href=\"#mfb8496ef96\" y=\"185.119805\"/>\n     <use style=\"fill:#1f77b4;stroke:#1f77b4;\" x=\"207.566138\" xlink:href=\"#mfb8496ef96\" y=\"176.606238\"/>\n     <use style=\"fill:#1f77b4;stroke:#1f77b4;\" x=\"57.447575\" xlink:href=\"#mfb8496ef96\" y=\"132.032197\"/>\n     <use style=\"fill:#1f77b4;stroke:#1f77b4;\" x=\"241.515763\" xlink:href=\"#mfb8496ef96\" y=\"106.72647\"/>\n     <use style=\"fill:#1f77b4;stroke:#1f77b4;\" x=\"219.300948\" xlink:href=\"#mfb8496ef96\" y=\"189.428689\"/>\n     <use style=\"fill:#1f77b4;stroke:#1f77b4;\" x=\"233.980316\" xlink:href=\"#mfb8496ef96\" y=\"212.712046\"/>\n     <use style=\"fill:#1f77b4;stroke:#1f77b4;\" x=\"181.429349\" xlink:href=\"#mfb8496ef96\" y=\"55.803662\"/>\n     <use style=\"fill:#1f77b4;stroke:#1f77b4;\" x=\"161.803104\" xlink:href=\"#mfb8496ef96\" y=\"45.681475\"/>\n     <use style=\"fill:#1f77b4;stroke:#1f77b4;\" x=\"287.418895\" xlink:href=\"#mfb8496ef96\" y=\"190.204169\"/>\n     <use style=\"fill:#1f77b4;stroke:#1f77b4;\" x=\"190.415623\" xlink:href=\"#mfb8496ef96\" y=\"31.679948\"/>\n     <use style=\"fill:#1f77b4;stroke:#1f77b4;\" x=\"235.918495\" xlink:href=\"#mfb8496ef96\" y=\"195.261771\"/>\n     <use style=\"fill:#1f77b4;stroke:#1f77b4;\" x=\"138.737542\" xlink:href=\"#mfb8496ef96\" y=\"45.428916\"/>\n     <use style=\"fill:#1f77b4;stroke:#1f77b4;\" x=\"170.107616\" xlink:href=\"#mfb8496ef96\" y=\"109.488771\"/>\n     <use style=\"fill:#1f77b4;stroke:#1f77b4;\" x=\"202.783927\" xlink:href=\"#mfb8496ef96\" y=\"205.399015\"/>\n     <use style=\"fill:#1f77b4;stroke:#1f77b4;\" x=\"142.286804\" xlink:href=\"#mfb8496ef96\" y=\"37.174861\"/>\n     <use style=\"fill:#1f77b4;stroke:#1f77b4;\" x=\"158.145464\" xlink:href=\"#mfb8496ef96\" y=\"46.881543\"/>\n     <use style=\"fill:#1f77b4;stroke:#1f77b4;\" x=\"340.740712\" xlink:href=\"#mfb8496ef96\" y=\"159.125291\"/>\n     <use style=\"fill:#1f77b4;stroke:#1f77b4;\" x=\"220.516571\" xlink:href=\"#mfb8496ef96\" y=\"186.553396\"/>\n     <use style=\"fill:#1f77b4;stroke:#1f77b4;\" x=\"90.365433\" xlink:href=\"#mfb8496ef96\" y=\"53.913126\"/>\n     <use style=\"fill:#1f77b4;stroke:#1f77b4;\" x=\"219.694239\" xlink:href=\"#mfb8496ef96\" y=\"193.487\"/>\n     <use style=\"fill:#1f77b4;stroke:#1f77b4;\" x=\"57.909096\" xlink:href=\"#mfb8496ef96\" y=\"133.565085\"/>\n     <use style=\"fill:#1f77b4;stroke:#1f77b4;\" x=\"219.40373\" xlink:href=\"#mfb8496ef96\" y=\"53.395973\"/>\n     <use style=\"fill:#1f77b4;stroke:#1f77b4;\" x=\"190.439409\" xlink:href=\"#mfb8496ef96\" y=\"165.072127\"/>\n     <use style=\"fill:#1f77b4;stroke:#1f77b4;\" x=\"100.166754\" xlink:href=\"#mfb8496ef96\" y=\"51.190823\"/>\n     <use style=\"fill:#1f77b4;stroke:#1f77b4;\" x=\"155.40674\" xlink:href=\"#mfb8496ef96\" y=\"37.112542\"/>\n     <use style=\"fill:#1f77b4;stroke:#1f77b4;\" x=\"314.037088\" xlink:href=\"#mfb8496ef96\" y=\"190.509657\"/>\n     <use style=\"fill:#1f77b4;stroke:#1f77b4;\" x=\"102.886175\" xlink:href=\"#mfb8496ef96\" y=\"63.092642\"/>\n     <use style=\"fill:#1f77b4;stroke:#1f77b4;\" x=\"146.225853\" xlink:href=\"#mfb8496ef96\" y=\"36.223887\"/>\n     <use style=\"fill:#1f77b4;stroke:#1f77b4;\" x=\"68.841293\" xlink:href=\"#mfb8496ef96\" y=\"95.870498\"/>\n     <use style=\"fill:#1f77b4;stroke:#1f77b4;\" x=\"134.336612\" xlink:href=\"#mfb8496ef96\" y=\"36.950715\"/>\n     <use style=\"fill:#1f77b4;stroke:#1f77b4;\" x=\"103.172875\" xlink:href=\"#mfb8496ef96\" y=\"40.673416\"/>\n     <use style=\"fill:#1f77b4;stroke:#1f77b4;\" x=\"272.831747\" xlink:href=\"#mfb8496ef96\" y=\"189.868087\"/>\n     <use style=\"fill:#1f77b4;stroke:#1f77b4;\" x=\"241.948083\" xlink:href=\"#mfb8496ef96\" y=\"114.547357\"/>\n     <use style=\"fill:#1f77b4;stroke:#1f77b4;\" x=\"168.300503\" xlink:href=\"#mfb8496ef96\" y=\"127.196384\"/>\n     <use style=\"fill:#1f77b4;stroke:#1f77b4;\" x=\"229.749904\" xlink:href=\"#mfb8496ef96\" y=\"65.464832\"/>\n     <use style=\"fill:#1f77b4;stroke:#1f77b4;\" x=\"241.473116\" xlink:href=\"#mfb8496ef96\" y=\"198.766584\"/>\n     <use style=\"fill:#1f77b4;stroke:#1f77b4;\" x=\"238.536117\" xlink:href=\"#mfb8496ef96\" y=\"105.306648\"/>\n     <use style=\"fill:#1f77b4;stroke:#1f77b4;\" x=\"198.81122\" xlink:href=\"#mfb8496ef96\" y=\"41.014539\"/>\n     <use style=\"fill:#1f77b4;stroke:#1f77b4;\" x=\"81.786775\" xlink:href=\"#mfb8496ef96\" y=\"65.03537\"/>\n     <use style=\"fill:#1f77b4;stroke:#1f77b4;\" x=\"68.111605\" xlink:href=\"#mfb8496ef96\" y=\"84.48672\"/>\n     <use style=\"fill:#1f77b4;stroke:#1f77b4;\" x=\"217.720655\" xlink:href=\"#mfb8496ef96\" y=\"45.701159\"/>\n     <use style=\"fill:#1f77b4;stroke:#1f77b4;\" x=\"223.192522\" xlink:href=\"#mfb8496ef96\" y=\"67.881982\"/>\n     <use style=\"fill:#1f77b4;stroke:#1f77b4;\" x=\"192.545802\" xlink:href=\"#mfb8496ef96\" y=\"170.417244\"/>\n     <use style=\"fill:#1f77b4;stroke:#1f77b4;\" x=\"236.246057\" xlink:href=\"#mfb8496ef96\" y=\"80.440657\"/>\n     <use style=\"fill:#1f77b4;stroke:#1f77b4;\" x=\"323.361395\" xlink:href=\"#mfb8496ef96\" y=\"165.221378\"/>\n    </g>\n   </g>\n   <g id=\"matplotlib.axis_1\">\n    <g id=\"xtick_1\">\n     <g id=\"line2d_1\">\n      <defs>\n       <path d=\"M 0 0 \nL 0 3.5 \n\" id=\"m31e45eec0e\" style=\"stroke:#000000;stroke-width:0.8;\"/>\n      </defs>\n      <g>\n       <use style=\"stroke:#000000;stroke-width:0.8;\" x=\"42.306534\" xlink:href=\"#m31e45eec0e\" y=\"224.64\"/>\n      </g>\n     </g>\n     <g id=\"text_1\">\n      <!-- −1.5 -->\n      <g transform=\"translate(30.165128 239.238438)scale(0.1 -0.1)\">\n       <defs>\n        <path d=\"M 10.59375 35.5 \nL 73.1875 35.5 \nL 73.1875 27.203125 \nL 10.59375 27.203125 \nz\n\" id=\"DejaVuSans-8722\"/>\n        <path d=\"M 12.40625 8.296875 \nL 28.515625 8.296875 \nL 28.515625 63.921875 \nL 10.984375 60.40625 \nL 10.984375 69.390625 \nL 28.421875 72.90625 \nL 38.28125 72.90625 \nL 38.28125 8.296875 \nL 54.390625 8.296875 \nL 54.390625 0 \nL 12.40625 0 \nz\n\" id=\"DejaVuSans-49\"/>\n        <path d=\"M 10.6875 12.40625 \nL 21 12.40625 \nL 21 0 \nL 10.6875 0 \nz\n\" id=\"DejaVuSans-46\"/>\n        <path d=\"M 10.796875 72.90625 \nL 49.515625 72.90625 \nL 49.515625 64.59375 \nL 19.828125 64.59375 \nL 19.828125 46.734375 \nQ 21.96875 47.46875 24.109375 47.828125 \nQ 26.265625 48.1875 28.421875 48.1875 \nQ 40.625 48.1875 47.75 41.5 \nQ 54.890625 34.8125 54.890625 23.390625 \nQ 54.890625 11.625 47.5625 5.09375 \nQ 40.234375 -1.421875 26.90625 -1.421875 \nQ 22.3125 -1.421875 17.546875 -0.640625 \nQ 12.796875 0.140625 7.71875 1.703125 \nL 7.71875 11.625 \nQ 12.109375 9.234375 16.796875 8.0625 \nQ 21.484375 6.890625 26.703125 6.890625 \nQ 35.15625 6.890625 40.078125 11.328125 \nQ 45.015625 15.765625 45.015625 23.390625 \nQ 45.015625 31 40.078125 35.4375 \nQ 35.15625 39.890625 26.703125 39.890625 \nQ 22.75 39.890625 18.8125 39.015625 \nQ 14.890625 38.140625 10.796875 36.28125 \nz\n\" id=\"DejaVuSans-53\"/>\n       </defs>\n       <use xlink:href=\"#DejaVuSans-8722\"/>\n       <use x=\"83.789062\" xlink:href=\"#DejaVuSans-49\"/>\n       <use x=\"147.412109\" xlink:href=\"#DejaVuSans-46\"/>\n       <use x=\"179.199219\" xlink:href=\"#DejaVuSans-53\"/>\n      </g>\n     </g>\n    </g>\n    <g id=\"xtick_2\">\n     <g id=\"line2d_2\">\n      <g>\n       <use style=\"stroke:#000000;stroke-width:0.8;\" x=\"96.876553\" xlink:href=\"#m31e45eec0e\" y=\"224.64\"/>\n      </g>\n     </g>\n     <g id=\"text_2\">\n      <!-- −1.0 -->\n      <g transform=\"translate(84.735147 239.238438)scale(0.1 -0.1)\">\n       <defs>\n        <path d=\"M 31.78125 66.40625 \nQ 24.171875 66.40625 20.328125 58.90625 \nQ 16.5 51.421875 16.5 36.375 \nQ 16.5 21.390625 20.328125 13.890625 \nQ 24.171875 6.390625 31.78125 6.390625 \nQ 39.453125 6.390625 43.28125 13.890625 \nQ 47.125 21.390625 47.125 36.375 \nQ 47.125 51.421875 43.28125 58.90625 \nQ 39.453125 66.40625 31.78125 66.40625 \nz\nM 31.78125 74.21875 \nQ 44.046875 74.21875 50.515625 64.515625 \nQ 56.984375 54.828125 56.984375 36.375 \nQ 56.984375 17.96875 50.515625 8.265625 \nQ 44.046875 -1.421875 31.78125 -1.421875 \nQ 19.53125 -1.421875 13.0625 8.265625 \nQ 6.59375 17.96875 6.59375 36.375 \nQ 6.59375 54.828125 13.0625 64.515625 \nQ 19.53125 74.21875 31.78125 74.21875 \nz\n\" id=\"DejaVuSans-48\"/>\n       </defs>\n       <use xlink:href=\"#DejaVuSans-8722\"/>\n       <use x=\"83.789062\" xlink:href=\"#DejaVuSans-49\"/>\n       <use x=\"147.412109\" xlink:href=\"#DejaVuSans-46\"/>\n       <use x=\"179.199219\" xlink:href=\"#DejaVuSans-48\"/>\n      </g>\n     </g>\n    </g>\n    <g id=\"xtick_3\">\n     <g id=\"line2d_3\">\n      <g>\n       <use style=\"stroke:#000000;stroke-width:0.8;\" x=\"151.446572\" xlink:href=\"#m31e45eec0e\" y=\"224.64\"/>\n      </g>\n     </g>\n     <g id=\"text_3\">\n      <!-- −0.5 -->\n      <g transform=\"translate(139.305166 239.238438)scale(0.1 -0.1)\">\n       <use xlink:href=\"#DejaVuSans-8722\"/>\n       <use x=\"83.789062\" xlink:href=\"#DejaVuSans-48\"/>\n       <use x=\"147.412109\" xlink:href=\"#DejaVuSans-46\"/>\n       <use x=\"179.199219\" xlink:href=\"#DejaVuSans-53\"/>\n      </g>\n     </g>\n    </g>\n    <g id=\"xtick_4\">\n     <g id=\"line2d_4\">\n      <g>\n       <use style=\"stroke:#000000;stroke-width:0.8;\" x=\"206.016591\" xlink:href=\"#m31e45eec0e\" y=\"224.64\"/>\n      </g>\n     </g>\n     <g id=\"text_4\">\n      <!-- 0.0 -->\n      <g transform=\"translate(198.065028 239.238438)scale(0.1 -0.1)\">\n       <use xlink:href=\"#DejaVuSans-48\"/>\n       <use x=\"63.623047\" xlink:href=\"#DejaVuSans-46\"/>\n       <use x=\"95.410156\" xlink:href=\"#DejaVuSans-48\"/>\n      </g>\n     </g>\n    </g>\n    <g id=\"xtick_5\">\n     <g id=\"line2d_5\">\n      <g>\n       <use style=\"stroke:#000000;stroke-width:0.8;\" x=\"260.58661\" xlink:href=\"#m31e45eec0e\" y=\"224.64\"/>\n      </g>\n     </g>\n     <g id=\"text_5\">\n      <!-- 0.5 -->\n      <g transform=\"translate(252.635047 239.238438)scale(0.1 -0.1)\">\n       <use xlink:href=\"#DejaVuSans-48\"/>\n       <use x=\"63.623047\" xlink:href=\"#DejaVuSans-46\"/>\n       <use x=\"95.410156\" xlink:href=\"#DejaVuSans-53\"/>\n      </g>\n     </g>\n    </g>\n    <g id=\"xtick_6\">\n     <g id=\"line2d_6\">\n      <g>\n       <use style=\"stroke:#000000;stroke-width:0.8;\" x=\"315.156629\" xlink:href=\"#m31e45eec0e\" y=\"224.64\"/>\n      </g>\n     </g>\n     <g id=\"text_6\">\n      <!-- 1.0 -->\n      <g transform=\"translate(307.205066 239.238438)scale(0.1 -0.1)\">\n       <use xlink:href=\"#DejaVuSans-49\"/>\n       <use x=\"63.623047\" xlink:href=\"#DejaVuSans-46\"/>\n       <use x=\"95.410156\" xlink:href=\"#DejaVuSans-48\"/>\n      </g>\n     </g>\n    </g>\n    <g id=\"xtick_7\">\n     <g id=\"line2d_7\">\n      <g>\n       <use style=\"stroke:#000000;stroke-width:0.8;\" x=\"369.726648\" xlink:href=\"#m31e45eec0e\" y=\"224.64\"/>\n      </g>\n     </g>\n     <g id=\"text_7\">\n      <!-- 1.5 -->\n      <g transform=\"translate(361.775085 239.238438)scale(0.1 -0.1)\">\n       <use xlink:href=\"#DejaVuSans-49\"/>\n       <use x=\"63.623047\" xlink:href=\"#DejaVuSans-46\"/>\n       <use x=\"95.410156\" xlink:href=\"#DejaVuSans-53\"/>\n      </g>\n     </g>\n    </g>\n   </g>\n   <g id=\"matplotlib.axis_2\">\n    <g id=\"ytick_1\">\n     <g id=\"line2d_8\">\n      <defs>\n       <path d=\"M 0 0 \nL -3.5 0 \n\" id=\"mca6dc68151\" style=\"stroke:#000000;stroke-width:0.8;\"/>\n      </defs>\n      <g>\n       <use style=\"stroke:#000000;stroke-width:0.8;\" x=\"38.482813\" xlink:href=\"#mca6dc68151\" y=\"213.125618\"/>\n      </g>\n     </g>\n     <g id=\"text_8\">\n      <!-- −1.0 -->\n      <g transform=\"translate(7.2 216.924837)scale(0.1 -0.1)\">\n       <use xlink:href=\"#DejaVuSans-8722\"/>\n       <use x=\"83.789062\" xlink:href=\"#DejaVuSans-49\"/>\n       <use x=\"147.412109\" xlink:href=\"#DejaVuSans-46\"/>\n       <use x=\"179.199219\" xlink:href=\"#DejaVuSans-48\"/>\n      </g>\n     </g>\n    </g>\n    <g id=\"ytick_2\">\n     <g id=\"line2d_9\">\n      <g>\n       <use style=\"stroke:#000000;stroke-width:0.8;\" x=\"38.482813\" xlink:href=\"#mca6dc68151\" y=\"165.235193\"/>\n      </g>\n     </g>\n     <g id=\"text_9\">\n      <!-- −0.5 -->\n      <g transform=\"translate(7.2 169.034412)scale(0.1 -0.1)\">\n       <use xlink:href=\"#DejaVuSans-8722\"/>\n       <use x=\"83.789062\" xlink:href=\"#DejaVuSans-48\"/>\n       <use x=\"147.412109\" xlink:href=\"#DejaVuSans-46\"/>\n       <use x=\"179.199219\" xlink:href=\"#DejaVuSans-53\"/>\n      </g>\n     </g>\n    </g>\n    <g id=\"ytick_3\">\n     <g id=\"line2d_10\">\n      <g>\n       <use style=\"stroke:#000000;stroke-width:0.8;\" x=\"38.482813\" xlink:href=\"#mca6dc68151\" y=\"117.344769\"/>\n      </g>\n     </g>\n     <g id=\"text_10\">\n      <!-- 0.0 -->\n      <g transform=\"translate(15.579688 121.143988)scale(0.1 -0.1)\">\n       <use xlink:href=\"#DejaVuSans-48\"/>\n       <use x=\"63.623047\" xlink:href=\"#DejaVuSans-46\"/>\n       <use x=\"95.410156\" xlink:href=\"#DejaVuSans-48\"/>\n      </g>\n     </g>\n    </g>\n    <g id=\"ytick_4\">\n     <g id=\"line2d_11\">\n      <g>\n       <use style=\"stroke:#000000;stroke-width:0.8;\" x=\"38.482813\" xlink:href=\"#mca6dc68151\" y=\"69.454344\"/>\n      </g>\n     </g>\n     <g id=\"text_11\">\n      <!-- 0.5 -->\n      <g transform=\"translate(15.579688 73.253563)scale(0.1 -0.1)\">\n       <use xlink:href=\"#DejaVuSans-48\"/>\n       <use x=\"63.623047\" xlink:href=\"#DejaVuSans-46\"/>\n       <use x=\"95.410156\" xlink:href=\"#DejaVuSans-53\"/>\n      </g>\n     </g>\n    </g>\n    <g id=\"ytick_5\">\n     <g id=\"line2d_12\">\n      <g>\n       <use style=\"stroke:#000000;stroke-width:0.8;\" x=\"38.482813\" xlink:href=\"#mca6dc68151\" y=\"21.56392\"/>\n      </g>\n     </g>\n     <g id=\"text_12\">\n      <!-- 1.0 -->\n      <g transform=\"translate(15.579688 25.363138)scale(0.1 -0.1)\">\n       <use xlink:href=\"#DejaVuSans-49\"/>\n       <use x=\"63.623047\" xlink:href=\"#DejaVuSans-46\"/>\n       <use x=\"95.410156\" xlink:href=\"#DejaVuSans-48\"/>\n      </g>\n     </g>\n    </g>\n   </g>\n   <g id=\"patch_3\">\n    <path d=\"M 38.482813 224.64 \nL 38.482813 7.2 \n\" style=\"fill:none;stroke:#000000;stroke-linecap:square;stroke-linejoin:miter;stroke-width:0.8;\"/>\n   </g>\n   <g id=\"patch_4\">\n    <path d=\"M 373.282813 224.64 \nL 373.282813 7.2 \n\" style=\"fill:none;stroke:#000000;stroke-linecap:square;stroke-linejoin:miter;stroke-width:0.8;\"/>\n   </g>\n   <g id=\"patch_5\">\n    <path d=\"M 38.482812 224.64 \nL 373.282812 224.64 \n\" style=\"fill:none;stroke:#000000;stroke-linecap:square;stroke-linejoin:miter;stroke-width:0.8;\"/>\n   </g>\n   <g id=\"patch_6\">\n    <path d=\"M 38.482812 7.2 \nL 373.282812 7.2 \n\" style=\"fill:none;stroke:#000000;stroke-linecap:square;stroke-linejoin:miter;stroke-width:0.8;\"/>\n   </g>\n  </g>\n </g>\n <defs>\n  <clipPath id=\"pada473b129\">\n   <rect height=\"217.44\" width=\"334.8\" x=\"38.482813\" y=\"7.2\"/>\n  </clipPath>\n </defs>\n</svg>\n",
      "image/png": "[encoded data removed]"
     },
     "metadata": {
      "needs_background": "light"
     }
    }
   ],
   "source": [
    "toy_data = np.array(pd.read_csv(\"realnvp_toydata.csv\"))\n",
    "print(toy_data.shape)\n",
    "plt.scatter(toy_data[:,0],toy_data[:,1])\n",
    "plt.savefig(\"Figure/toy_data_plot.png\")"
   ]
  },
  {
   "cell_type": "code",
   "execution_count": 3,
   "metadata": {},
   "outputs": [],
   "source": [
    "class AffineCouplingLayer(nn.Module):\n",
    "    def __init__(self, n_hidden = 32, permute = False):\n",
    "        super().__init__()\n",
    "        self.n_channel,self.n_split, self.permute = 2, 1, permute\n",
    "        self.nn = nn.Sequential(\n",
    "            nn.Linear(self.n_split, n_hidden),\n",
    "            nn.ReLU(),\n",
    "            nn.Linear(n_hidden, n_hidden),\n",
    "            nn.ReLU(),\n",
    "            nn.Linear(n_hidden, 2*(self.n_split))\n",
    "        )\n",
    "    def forward(self, x):\n",
    "        # x: bxc\n",
    "        b,c = x.shape\n",
    "        assert self.n_channel == c\n",
    "        remain, change = None, None\n",
    "        if self.permute:\n",
    "            remain, change = x[:,:self.n_split], x[:,self.n_split:]\n",
    "        else:\n",
    "            remain, change = x[:,self.n_split:], x[:,:self.n_split]\n",
    "        nn_result = self.nn(remain) #bx2(D-d)\n",
    "        #log_s, t: bx(D-d)\n",
    "        log_s, t = nn_result[:,0::2], nn_result[:,1::2]\n",
    "        # s = torch.exp(log_s) #log_s는 initially 0\n",
    "        s = torch.exp(F.tanh(log_s))\n",
    "        y_remain, y_change = remain, s*change + t\n",
    "        y = None\n",
    "        if self.permute:\n",
    "            y = torch.cat((y_remain, y_change), dim = 1)\n",
    "        else:\n",
    "            y = torch.cat((y_change, y_remain), dim = 1)\n",
    "        log_det = s.view(b, -1).abs().log().sum(dim = 1)\n",
    "\n",
    "        return y, log_det\n",
    "    def reverse(self, z):\n",
    "        # z: bxcxhxw\n",
    "        remain, change = None, None\n",
    "        if self.permute:\n",
    "            remain, change = z[:,:self.n_split], z[:,self.n_split:]\n",
    "        else:\n",
    "            remain, change = z[:,self.n_split:], z[:,:self.n_split]\n",
    "        nn_result = self.nn(remain) #bx2(D-d) x h x w\n",
    "        log_s, t = nn_result[:,0::2], nn_result[:,1::2]\n",
    "        s = torch.exp(F.tanh(log_s))\n",
    "        y_remain, y_change = remain, (change-t)/s\n",
    "        y = None\n",
    "        if self.permute:\n",
    "            y = torch.cat((y_remain, y_change), dim = 1)\n",
    "        else:\n",
    "            y = torch.cat((y_change, y_remain), dim = 1)\n",
    "        return y\n"
   ]
  },
  {
   "cell_type": "code",
   "execution_count": 4,
   "metadata": {},
   "outputs": [],
   "source": [
    "b, c = 4, 2\n",
    "x = torch.randn(b,c)\n",
    "model = AffineCouplingLayer(n_hidden= 64)\n",
    "z, log_det = model(x)\n",
    "x2 = model.reverse(z)\n",
    "#check invertible\n",
    "assert torch.allclose(x, x2, atol = 1e-7)\n"
   ]
  },
  {
   "cell_type": "code",
   "execution_count": 5,
   "metadata": {},
   "outputs": [],
   "source": [
    "class RealNVP(nn.Module):\n",
    "    def __init__(self, n_flow, n_hidden):\n",
    "        super().__init__()\n",
    "        self.affines = nn.ModuleList([AffineCouplingLayer(n_hidden = n_hidden, permute = idx%2 == 0) for idx in range(n_flow)])\n",
    "    def forward(self, x):\n",
    "        output, log_det = x, 0\n",
    "        for layer in self.affines:\n",
    "            output, log_det_ = layer(output)\n",
    "            log_det += log_det_\n",
    "        return output, log_det\n",
    "    def reverse(self, z):\n",
    "        output = z\n",
    "        for layer in self.affines[::-1]:\n",
    "            output = layer.reverse(output)\n",
    "        return output"
   ]
  },
  {
   "cell_type": "code",
   "execution_count": 6,
   "metadata": {},
   "outputs": [],
   "source": [
    "b, c = 300, 2\n",
    "x = torch.randn(b,c)\n",
    "model = RealNVP(n_hidden = 100, n_flow = 10)\n",
    "z, log_det = model(x)\n",
    "x2 = model.reverse(z)\n",
    "#check invertible\n",
    "assert torch.allclose(x, x2, atol = 1e-7)\n"
   ]
  },
  {
   "cell_type": "code",
   "execution_count": 29,
   "metadata": {},
   "outputs": [],
   "source": [
    "def draw_figure(x, x2z, z, z2x, ep):\n",
    "    plt.figure(figsize= (12,12))\n",
    "    plt.subplot(2,2,1)\n",
    "    plt.title(\"x\")\n",
    "    plt.scatter(x[:,0], x[:,1])\n",
    "    plt.subplot(2,2,2)\n",
    "    plt.title(\"x -> z\")\n",
    "    plt.scatter(x2z[:,0], x2z[:,1])\n",
    "    plt.subplot(2,2,3)\n",
    "    plt.title(\"z\")\n",
    "    plt.scatter(z[:,0], z[:,1])\n",
    "    plt.subplot(2,2,4)\n",
    "    plt.title(\"z -> x\")\n",
    "    plt.scatter(z2x[:,0], z2x[:,1])\n",
    "    plt.savefig(f\"Toy_samples/{ep}.png\", facecolor =\"white\")\n",
    "    plt.clf()"
   ]
  },
  {
   "cell_type": "code",
   "execution_count": 32,
   "metadata": {
    "tags": []
   },
   "outputs": [
    {
     "output_type": "stream",
     "name": "stdout",
     "text": [
      "[0] train_loss: 2.3240, loss_prior: 2.9569\n",
      "[1] train_loss: 2.2469, loss_prior: 2.8641\n",
      "[2] train_loss: 2.1807, loss_prior: 2.7953\n",
      "[3] train_loss: 2.1225, loss_prior: 2.7453\n",
      "[4] train_loss: 2.0703, loss_prior: 2.7106\n",
      "[5] train_loss: 2.0228, loss_prior: 2.6886\n",
      "[6] train_loss: 1.9794, loss_prior: 2.6776\n",
      "[7] train_loss: 1.9397, loss_prior: 2.6763\n",
      "[8] train_loss: 1.9038, loss_prior: 2.6837\n",
      "[9] train_loss: 1.8716, loss_prior: 2.6989\n",
      "[10] train_loss: 1.8433, loss_prior: 2.7209\n",
      "[11] train_loss: 1.8190, loss_prior: 2.7490\n",
      "[12] train_loss: 1.7987, loss_prior: 2.7821\n",
      "[13] train_loss: 1.7823, loss_prior: 2.8183\n",
      "[14] train_loss: 1.7692, loss_prior: 2.8558\n",
      "[15] train_loss: 1.7593, loss_prior: 2.8925\n",
      "[16] train_loss: 1.7517, loss_prior: 2.9262\n",
      "[17] train_loss: 1.7456, loss_prior: 2.9548\n",
      "[18] train_loss: 1.7402, loss_prior: 2.9766\n",
      "[19] train_loss: 1.7346, loss_prior: 2.9905\n",
      "[20] train_loss: 1.7281, loss_prior: 2.9957\n",
      "[21] train_loss: 1.7202, loss_prior: 2.9922\n",
      "[22] train_loss: 1.7109, loss_prior: 2.9811\n",
      "[23] train_loss: 1.7005, loss_prior: 2.9638\n",
      "[24] train_loss: 1.6895, loss_prior: 2.9425\n",
      "[25] train_loss: 1.6784, loss_prior: 2.9194\n",
      "[26] train_loss: 1.6678, loss_prior: 2.8963\n",
      "[27] train_loss: 1.6581, loss_prior: 2.8751\n",
      "[28] train_loss: 1.6496, loss_prior: 2.8568\n",
      "[29] train_loss: 1.6422, loss_prior: 2.8422\n",
      "[30] train_loss: 1.6358, loss_prior: 2.8315\n",
      "[31] train_loss: 1.6300, loss_prior: 2.8243\n",
      "[32] train_loss: 1.6248, loss_prior: 2.8200\n",
      "[33] train_loss: 1.6199, loss_prior: 2.8179\n",
      "[34] train_loss: 1.6150, loss_prior: 2.8170\n",
      "[35] train_loss: 1.6101, loss_prior: 2.8164\n",
      "[36] train_loss: 1.6050, loss_prior: 2.8155\n",
      "[37] train_loss: 1.5996, loss_prior: 2.8139\n",
      "[38] train_loss: 1.5938, loss_prior: 2.8115\n",
      "[39] train_loss: 1.5879, loss_prior: 2.8088\n",
      "[40] train_loss: 1.5818, loss_prior: 2.8065\n",
      "[41] train_loss: 1.5759, loss_prior: 2.8052\n",
      "[42] train_loss: 1.5701, loss_prior: 2.8057\n",
      "[43] train_loss: 1.5645, loss_prior: 2.8084\n",
      "[44] train_loss: 1.5590, loss_prior: 2.8134\n",
      "[45] train_loss: 1.5537, loss_prior: 2.8207\n",
      "[46] train_loss: 1.5484, loss_prior: 2.8298\n",
      "[47] train_loss: 1.5433, loss_prior: 2.8399\n",
      "[48] train_loss: 1.5381, loss_prior: 2.8501\n",
      "[49] train_loss: 1.5328, loss_prior: 2.8593\n",
      "[50] train_loss: 1.5275, loss_prior: 2.8667\n",
      "[51] train_loss: 1.5222, loss_prior: 2.8712\n",
      "[52] train_loss: 1.5166, loss_prior: 2.8724\n",
      "[53] train_loss: 1.5109, loss_prior: 2.8705\n",
      "[54] train_loss: 1.5051, loss_prior: 2.8656\n",
      "[55] train_loss: 1.4993, loss_prior: 2.8586\n",
      "[56] train_loss: 1.4934, loss_prior: 2.8503\n",
      "[57] train_loss: 1.4875, loss_prior: 2.8421\n",
      "[58] train_loss: 1.4815, loss_prior: 2.8349\n",
      "[59] train_loss: 1.4754, loss_prior: 2.8294\n",
      "[60] train_loss: 1.4691, loss_prior: 2.8260\n",
      "[61] train_loss: 1.4628, loss_prior: 2.8246\n",
      "[62] train_loss: 1.4563, loss_prior: 2.8250\n",
      "[63] train_loss: 1.4499, loss_prior: 2.8266\n",
      "[64] train_loss: 1.4434, loss_prior: 2.8285\n",
      "[65] train_loss: 1.4368, loss_prior: 2.8301\n",
      "[66] train_loss: 1.4300, loss_prior: 2.8309\n",
      "[67] train_loss: 1.4230, loss_prior: 2.8308\n",
      "[68] train_loss: 1.4159, loss_prior: 2.8300\n",
      "[69] train_loss: 1.4087, loss_prior: 2.8291\n",
      "[70] train_loss: 1.4014, loss_prior: 2.8285\n",
      "[71] train_loss: 1.3938, loss_prior: 2.8287\n",
      "[72] train_loss: 1.3861, loss_prior: 2.8300\n",
      "[73] train_loss: 1.3783, loss_prior: 2.8323\n",
      "[74] train_loss: 1.3703, loss_prior: 2.8354\n",
      "[75] train_loss: 1.3622, loss_prior: 2.8387\n",
      "[76] train_loss: 1.3540, loss_prior: 2.8414\n",
      "[77] train_loss: 1.3455, loss_prior: 2.8430\n",
      "[78] train_loss: 1.3369, loss_prior: 2.8433\n",
      "[79] train_loss: 1.3281, loss_prior: 2.8429\n",
      "[80] train_loss: 1.3194, loss_prior: 2.8421\n",
      "[81] train_loss: 1.3106, loss_prior: 2.8411\n",
      "[82] train_loss: 1.3017, loss_prior: 2.8400\n",
      "[83] train_loss: 1.2926, loss_prior: 2.8395\n",
      "[84] train_loss: 1.2835, loss_prior: 2.8395\n",
      "[85] train_loss: 1.2744, loss_prior: 2.8399\n",
      "[86] train_loss: 1.2653, loss_prior: 2.8403\n",
      "[87] train_loss: 1.2563, loss_prior: 2.8402\n",
      "[88] train_loss: 1.2474, loss_prior: 2.8394\n",
      "[89] train_loss: 1.2386, loss_prior: 2.8381\n",
      "[90] train_loss: 1.2299, loss_prior: 2.8365\n",
      "[91] train_loss: 1.2213, loss_prior: 2.8349\n",
      "[92] train_loss: 1.2129, loss_prior: 2.8341\n",
      "[93] train_loss: 1.2046, loss_prior: 2.8342\n",
      "[94] train_loss: 1.1965, loss_prior: 2.8353\n",
      "[95] train_loss: 1.1884, loss_prior: 2.8374\n",
      "[96] train_loss: 1.1804, loss_prior: 2.8398\n",
      "[97] train_loss: 1.1725, loss_prior: 2.8416\n",
      "[98] train_loss: 1.1648, loss_prior: 2.8421\n",
      "[99] train_loss: 1.1572, loss_prior: 2.8411\n",
      "[100] train_loss: 1.1497, loss_prior: 2.8392\n",
      "[101] train_loss: 1.1424, loss_prior: 2.8370\n",
      "[102] train_loss: 1.1353, loss_prior: 2.8352\n",
      "[103] train_loss: 1.1285, loss_prior: 2.8337\n",
      "[104] train_loss: 1.1219, loss_prior: 2.8323\n",
      "[105] train_loss: 1.1155, loss_prior: 2.8312\n",
      "[106] train_loss: 1.1092, loss_prior: 2.8309\n",
      "[107] train_loss: 1.1031, loss_prior: 2.8313\n",
      "[108] train_loss: 1.0971, loss_prior: 2.8315\n",
      "[109] train_loss: 1.0914, loss_prior: 2.8323\n",
      "[110] train_loss: 1.0858, loss_prior: 2.8338\n",
      "[111] train_loss: 1.0803, loss_prior: 2.8361\n",
      "[112] train_loss: 1.0750, loss_prior: 2.8378\n",
      "[113] train_loss: 1.0698, loss_prior: 2.8386\n",
      "[114] train_loss: 1.0646, loss_prior: 2.8388\n",
      "[115] train_loss: 1.0596, loss_prior: 2.8386\n",
      "[116] train_loss: 1.0545, loss_prior: 2.8374\n",
      "[117] train_loss: 1.0495, loss_prior: 2.8363\n",
      "[118] train_loss: 1.0445, loss_prior: 2.8371\n",
      "[119] train_loss: 1.0394, loss_prior: 2.8377\n",
      "[120] train_loss: 1.0345, loss_prior: 2.8392\n",
      "[121] train_loss: 1.0296, loss_prior: 2.8409\n",
      "[122] train_loss: 1.0248, loss_prior: 2.8411\n",
      "[123] train_loss: 1.0199, loss_prior: 2.8393\n",
      "[124] train_loss: 1.0151, loss_prior: 2.8369\n",
      "[125] train_loss: 1.0104, loss_prior: 2.8350\n",
      "[126] train_loss: 1.0057, loss_prior: 2.8327\n",
      "[127] train_loss: 1.0010, loss_prior: 2.8319\n",
      "[128] train_loss: 0.9964, loss_prior: 2.8337\n",
      "[129] train_loss: 0.9919, loss_prior: 2.8352\n",
      "[130] train_loss: 0.9876, loss_prior: 2.8354\n",
      "[131] train_loss: 0.9832, loss_prior: 2.8355\n",
      "[132] train_loss: 0.9789, loss_prior: 2.8349\n",
      "[133] train_loss: 0.9746, loss_prior: 2.8342\n",
      "[134] train_loss: 0.9703, loss_prior: 2.8350\n",
      "[135] train_loss: 0.9661, loss_prior: 2.8363\n",
      "[136] train_loss: 0.9618, loss_prior: 2.8376\n",
      "[137] train_loss: 0.9575, loss_prior: 2.8387\n",
      "[138] train_loss: 0.9533, loss_prior: 2.8394\n",
      "[139] train_loss: 0.9491, loss_prior: 2.8389\n",
      "[140] train_loss: 0.9449, loss_prior: 2.8381\n",
      "[141] train_loss: 0.9407, loss_prior: 2.8381\n",
      "[142] train_loss: 0.9364, loss_prior: 2.8361\n",
      "[143] train_loss: 0.9322, loss_prior: 2.8358\n",
      "[144] train_loss: 0.9281, loss_prior: 2.8361\n",
      "[145] train_loss: 0.9239, loss_prior: 2.8358\n",
      "[146] train_loss: 0.9198, loss_prior: 2.8367\n",
      "[147] train_loss: 0.9157, loss_prior: 2.8370\n",
      "[148] train_loss: 0.9116, loss_prior: 2.8360\n",
      "[149] train_loss: 0.9075, loss_prior: 2.8353\n",
      "[150] train_loss: 0.9034, loss_prior: 2.8348\n",
      "[151] train_loss: 0.8994, loss_prior: 2.8343\n",
      "[152] train_loss: 0.8954, loss_prior: 2.8358\n",
      "[153] train_loss: 0.8913, loss_prior: 2.8386\n",
      "[154] train_loss: 0.8873, loss_prior: 2.8390\n",
      "[155] train_loss: 0.8833, loss_prior: 2.8388\n",
      "[156] train_loss: 0.8793, loss_prior: 2.8376\n",
      "[157] train_loss: 0.8753, loss_prior: 2.8369\n",
      "[158] train_loss: 0.8714, loss_prior: 2.8390\n",
      "[159] train_loss: 0.8674, loss_prior: 2.8393\n",
      "[160] train_loss: 0.8635, loss_prior: 2.8390\n",
      "[161] train_loss: 0.8596, loss_prior: 2.8396\n",
      "[162] train_loss: 0.8559, loss_prior: 2.8391\n",
      "[163] train_loss: 0.8520, loss_prior: 2.8424\n",
      "[164] train_loss: 0.8483, loss_prior: 2.8412\n",
      "[165] train_loss: 0.8447, loss_prior: 2.8368\n",
      "[166] train_loss: 0.8409, loss_prior: 2.8367\n",
      "[167] train_loss: 0.8372, loss_prior: 2.8360\n",
      "[168] train_loss: 0.8337, loss_prior: 2.8377\n",
      "[169] train_loss: 0.8302, loss_prior: 2.8396\n",
      "[170] train_loss: 0.8268, loss_prior: 2.8387\n",
      "[171] train_loss: 0.8233, loss_prior: 2.8361\n",
      "[172] train_loss: 0.8199, loss_prior: 2.8372\n",
      "[173] train_loss: 0.8164, loss_prior: 2.8374\n",
      "[174] train_loss: 0.8129, loss_prior: 2.8386\n",
      "[175] train_loss: 0.8096, loss_prior: 2.8410\n",
      "[176] train_loss: 0.8062, loss_prior: 2.8408\n",
      "[177] train_loss: 0.8027, loss_prior: 2.8408\n",
      "[178] train_loss: 0.7995, loss_prior: 2.8411\n",
      "[179] train_loss: 0.7962, loss_prior: 2.8391\n",
      "[180] train_loss: 0.7929, loss_prior: 2.8401\n",
      "[181] train_loss: 0.7896, loss_prior: 2.8406\n",
      "[182] train_loss: 0.7864, loss_prior: 2.8383\n",
      "[183] train_loss: 0.7832, loss_prior: 2.8373\n",
      "[184] train_loss: 0.7800, loss_prior: 2.8350\n",
      "[185] train_loss: 0.7768, loss_prior: 2.8368\n",
      "[186] train_loss: 0.7737, loss_prior: 2.8387\n",
      "[187] train_loss: 0.7706, loss_prior: 2.8353\n",
      "[188] train_loss: 0.7675, loss_prior: 2.8337\n",
      "[189] train_loss: 0.7645, loss_prior: 2.8353\n",
      "[190] train_loss: 0.7615, loss_prior: 2.8352\n",
      "[191] train_loss: 0.7584, loss_prior: 2.8365\n",
      "[192] train_loss: 0.7554, loss_prior: 2.8368\n",
      "[193] train_loss: 0.7525, loss_prior: 2.8354\n",
      "[194] train_loss: 0.7496, loss_prior: 2.8354\n",
      "[195] train_loss: 0.7466, loss_prior: 2.8365\n",
      "[196] train_loss: 0.7437, loss_prior: 2.8384\n",
      "[197] train_loss: 0.7408, loss_prior: 2.8415\n",
      "[198] train_loss: 0.7379, loss_prior: 2.8404\n",
      "[199] train_loss: 0.7351, loss_prior: 2.8371\n",
      "[200] train_loss: 0.7323, loss_prior: 2.8363\n",
      "[201] train_loss: 0.7294, loss_prior: 2.8391\n",
      "[202] train_loss: 0.7266, loss_prior: 2.8413\n",
      "[203] train_loss: 0.7237, loss_prior: 2.8427\n",
      "[204] train_loss: 0.7208, loss_prior: 2.8416\n",
      "[205] train_loss: 0.7180, loss_prior: 2.8392\n",
      "[206] train_loss: 0.7153, loss_prior: 2.8357\n",
      "[207] train_loss: 0.7126, loss_prior: 2.8361\n",
      "[208] train_loss: 0.7098, loss_prior: 2.8405\n",
      "[209] train_loss: 0.7071, loss_prior: 2.8391\n",
      "[210] train_loss: 0.7043, loss_prior: 2.8340\n",
      "[211] train_loss: 0.7017, loss_prior: 2.8339\n",
      "[212] train_loss: 0.6990, loss_prior: 2.8342\n",
      "[213] train_loss: 0.6964, loss_prior: 2.8345\n",
      "[214] train_loss: 0.6938, loss_prior: 2.8344\n",
      "[215] train_loss: 0.6911, loss_prior: 2.8317\n",
      "[216] train_loss: 0.6886, loss_prior: 2.8299\n",
      "[217] train_loss: 0.6860, loss_prior: 2.8273\n",
      "[218] train_loss: 0.6835, loss_prior: 2.8267\n",
      "[219] train_loss: 0.6810, loss_prior: 2.8272\n",
      "[220] train_loss: 0.6786, loss_prior: 2.8335\n",
      "[221] train_loss: 0.6759, loss_prior: 2.8267\n",
      "[222] train_loss: 0.6733, loss_prior: 2.8293\n",
      "[223] train_loss: 0.6708, loss_prior: 2.8333\n",
      "[224] train_loss: 0.6683, loss_prior: 2.8322\n",
      "[225] train_loss: 0.6657, loss_prior: 2.8342\n",
      "[226] train_loss: 0.6633, loss_prior: 2.8367\n",
      "[227] train_loss: 0.6609, loss_prior: 2.8336\n",
      "[228] train_loss: 0.6585, loss_prior: 2.8349\n",
      "[229] train_loss: 0.6562, loss_prior: 2.8365\n",
      "[230] train_loss: 0.6539, loss_prior: 2.8315\n",
      "[231] train_loss: 0.6515, loss_prior: 2.8338\n",
      "[232] train_loss: 0.6491, loss_prior: 2.8349\n",
      "[233] train_loss: 0.6467, loss_prior: 2.8309\n",
      "[234] train_loss: 0.6444, loss_prior: 2.8309\n",
      "[235] train_loss: 0.6420, loss_prior: 2.8345\n",
      "[236] train_loss: 0.6395, loss_prior: 2.8347\n",
      "[237] train_loss: 0.6370, loss_prior: 2.8308\n",
      "[238] train_loss: 0.6345, loss_prior: 2.8331\n",
      "[239] train_loss: 0.6319, loss_prior: 2.8269\n",
      "[240] train_loss: 0.6291, loss_prior: 2.8284\n",
      "[241] train_loss: 0.6265, loss_prior: 2.8306\n",
      "[242] train_loss: 0.6237, loss_prior: 2.8238\n",
      "[243] train_loss: 0.6207, loss_prior: 2.8290\n",
      "[244] train_loss: 0.6178, loss_prior: 2.8278\n",
      "[245] train_loss: 0.6149, loss_prior: 2.8252\n",
      "[246] train_loss: 0.6120, loss_prior: 2.8258\n",
      "[247] train_loss: 0.6092, loss_prior: 2.8227\n",
      "[248] train_loss: 0.6064, loss_prior: 2.8266\n",
      "[249] train_loss: 0.6036, loss_prior: 2.8209\n",
      "[250] train_loss: 0.6009, loss_prior: 2.8258\n",
      "[251] train_loss: 0.5983, loss_prior: 2.8238\n",
      "[252] train_loss: 0.5957, loss_prior: 2.8259\n",
      "[253] train_loss: 0.5933, loss_prior: 2.8339\n",
      "[254] train_loss: 0.5912, loss_prior: 2.8171\n",
      "[255] train_loss: 0.5884, loss_prior: 2.8448\n",
      "[256] train_loss: 0.5852, loss_prior: 2.8315\n",
      "[257] train_loss: 0.5826, loss_prior: 2.8331\n",
      "[258] train_loss: 0.5805, loss_prior: 2.8438\n",
      "[259] train_loss: 0.5781, loss_prior: 2.8324\n",
      "[260] train_loss: 0.5758, loss_prior: 2.8433\n",
      "[261] train_loss: 0.5741, loss_prior: 2.8436\n",
      "[262] train_loss: 0.5724, loss_prior: 2.8268\n",
      "[263] train_loss: 0.5689, loss_prior: 2.8492\n",
      "[264] train_loss: 0.5666, loss_prior: 2.8393\n",
      "[265] train_loss: 0.5650, loss_prior: 2.8319\n",
      "[266] train_loss: 0.5625, loss_prior: 2.8387\n",
      "[267] train_loss: 0.5600, loss_prior: 2.8396\n",
      "[268] train_loss: 0.5579, loss_prior: 2.8360\n",
      "[269] train_loss: 0.5561, loss_prior: 2.8382\n",
      "[270] train_loss: 0.5539, loss_prior: 2.8326\n",
      "[271] train_loss: 0.5517, loss_prior: 2.8394\n",
      "[272] train_loss: 0.5497, loss_prior: 2.8393\n",
      "[273] train_loss: 0.5479, loss_prior: 2.8343\n",
      "[274] train_loss: 0.5459, loss_prior: 2.8339\n",
      "[275] train_loss: 0.5439, loss_prior: 2.8401\n",
      "[276] train_loss: 0.5420, loss_prior: 2.8296\n",
      "[277] train_loss: 0.5401, loss_prior: 2.8416\n",
      "[278] train_loss: 0.5382, loss_prior: 2.8282\n",
      "[279] train_loss: 0.5361, loss_prior: 2.8383\n"
     ]
    },
    {
     "output_type": "display_data",
     "data": {
      "text/plain": "<Figure size 864x864 with 0 Axes>"
     },
     "metadata": {}
    },
    {
     "output_type": "display_data",
     "data": {
      "text/plain": "<Figure size 864x864 with 0 Axes>"
     },
     "metadata": {}
    },
    {
     "output_type": "display_data",
     "data": {
      "text/plain": "<Figure size 864x864 with 0 Axes>"
     },
     "metadata": {}
    },
    {
     "output_type": "display_data",
     "data": {
      "text/plain": "<Figure size 864x864 with 0 Axes>"
     },
     "metadata": {}
    },
    {
     "output_type": "display_data",
     "data": {
      "text/plain": "<Figure size 864x864 with 0 Axes>"
     },
     "metadata": {}
    },
    {
     "output_type": "display_data",
     "data": {
      "text/plain": "<Figure size 864x864 with 0 Axes>"
     },
     "metadata": {}
    },
    {
     "output_type": "display_data",
     "data": {
      "text/plain": "<Figure size 864x864 with 0 Axes>"
     },
     "metadata": {}
    },
    {
     "output_type": "display_data",
     "data": {
      "text/plain": "<Figure size 864x864 with 0 Axes>"
     },
     "metadata": {}
    },
    {
     "output_type": "display_data",
     "data": {
      "text/plain": "<Figure size 864x864 with 0 Axes>"
     },
     "metadata": {}
    },
    {
     "output_type": "display_data",
     "data": {
      "text/plain": "<Figure size 864x864 with 0 Axes>"
     },
     "metadata": {}
    },
    {
     "output_type": "display_data",
     "data": {
      "text/plain": "<Figure size 864x864 with 0 Axes>"
     },
     "metadata": {}
    },
    {
     "output_type": "display_data",
     "data": {
      "text/plain": "<Figure size 864x864 with 0 Axes>"
     },
     "metadata": {}
    },
    {
     "output_type": "display_data",
     "data": {
      "text/plain": "<Figure size 864x864 with 0 Axes>"
     },
     "metadata": {}
    },
    {
     "output_type": "display_data",
     "data": {
      "text/plain": "<Figure size 864x864 with 0 Axes>"
     },
     "metadata": {}
    },
    {
     "output_type": "display_data",
     "data": {
      "text/plain": "<Figure size 864x864 with 0 Axes>"
     },
     "metadata": {}
    },
    {
     "output_type": "display_data",
     "data": {
      "text/plain": "<Figure size 864x864 with 0 Axes>"
     },
     "metadata": {}
    },
    {
     "output_type": "display_data",
     "data": {
      "text/plain": "<Figure size 864x864 with 0 Axes>"
     },
     "metadata": {}
    },
    {
     "output_type": "display_data",
     "data": {
      "text/plain": "<Figure size 864x864 with 0 Axes>"
     },
     "metadata": {}
    },
    {
     "output_type": "display_data",
     "data": {
      "text/plain": "<Figure size 864x864 with 0 Axes>"
     },
     "metadata": {}
    },
    {
     "output_type": "display_data",
     "data": {
      "text/plain": "<Figure size 864x864 with 0 Axes>"
     },
     "metadata": {}
    },
    {
     "output_type": "display_data",
     "data": {
      "text/plain": "<Figure size 864x864 with 0 Axes>"
     },
     "metadata": {}
    },
    {
     "output_type": "display_data",
     "data": {
      "text/plain": "<Figure size 864x864 with 0 Axes>"
     },
     "metadata": {}
    },
    {
     "output_type": "display_data",
     "data": {
      "text/plain": "<Figure size 864x864 with 0 Axes>"
     },
     "metadata": {}
    },
    {
     "output_type": "display_data",
     "data": {
      "text/plain": "<Figure size 864x864 with 0 Axes>"
     },
     "metadata": {}
    },
    {
     "output_type": "display_data",
     "data": {
      "text/plain": "<Figure size 864x864 with 0 Axes>"
     },
     "metadata": {}
    },
    {
     "output_type": "display_data",
     "data": {
      "text/plain": "<Figure size 864x864 with 0 Axes>"
     },
     "metadata": {}
    },
    {
     "output_type": "display_data",
     "data": {
      "text/plain": "<Figure size 864x864 with 0 Axes>"
     },
     "metadata": {}
    },
    {
     "output_type": "display_data",
     "data": {
      "text/plain": "<Figure size 864x864 with 0 Axes>"
     },
     "metadata": {}
    },
    {
     "output_type": "display_data",
     "data": {
      "text/plain": "<Figure size 864x864 with 0 Axes>"
     },
     "metadata": {}
    },
    {
     "output_type": "display_data",
     "data": {
      "text/plain": "<Figure size 864x864 with 0 Axes>"
     },
     "metadata": {}
    },
    {
     "output_type": "display_data",
     "data": {
      "text/plain": "<Figure size 864x864 with 0 Axes>"
     },
     "metadata": {}
    },
    {
     "output_type": "display_data",
     "data": {
      "text/plain": "<Figure size 864x864 with 0 Axes>"
     },
     "metadata": {}
    },
    {
     "output_type": "display_data",
     "data": {
      "text/plain": "<Figure size 864x864 with 0 Axes>"
     },
     "metadata": {}
    },
    {
     "output_type": "display_data",
     "data": {
      "text/plain": "<Figure size 864x864 with 0 Axes>"
     },
     "metadata": {}
    },
    {
     "output_type": "display_data",
     "data": {
      "text/plain": "<Figure size 864x864 with 0 Axes>"
     },
     "metadata": {}
    },
    {
     "output_type": "display_data",
     "data": {
      "text/plain": "<Figure size 864x864 with 0 Axes>"
     },
     "metadata": {}
    },
    {
     "output_type": "display_data",
     "data": {
      "text/plain": "<Figure size 864x864 with 0 Axes>"
     },
     "metadata": {}
    },
    {
     "output_type": "display_data",
     "data": {
      "text/plain": "<Figure size 864x864 with 0 Axes>"
     },
     "metadata": {}
    },
    {
     "output_type": "display_data",
     "data": {
      "text/plain": "<Figure size 864x864 with 0 Axes>"
     },
     "metadata": {}
    },
    {
     "output_type": "display_data",
     "data": {
      "text/plain": "<Figure size 864x864 with 0 Axes>"
     },
     "metadata": {}
    },
    {
     "output_type": "display_data",
     "data": {
      "text/plain": "<Figure size 864x864 with 0 Axes>"
     },
     "metadata": {}
    },
    {
     "output_type": "display_data",
     "data": {
      "text/plain": "<Figure size 864x864 with 0 Axes>"
     },
     "metadata": {}
    },
    {
     "output_type": "display_data",
     "data": {
      "text/plain": "<Figure size 864x864 with 0 Axes>"
     },
     "metadata": {}
    },
    {
     "output_type": "display_data",
     "data": {
      "text/plain": "<Figure size 864x864 with 0 Axes>"
     },
     "metadata": {}
    },
    {
     "output_type": "display_data",
     "data": {
      "text/plain": "<Figure size 864x864 with 0 Axes>"
     },
     "metadata": {}
    },
    {
     "output_type": "display_data",
     "data": {
      "text/plain": "<Figure size 864x864 with 0 Axes>"
     },
     "metadata": {}
    },
    {
     "output_type": "display_data",
     "data": {
      "text/plain": "<Figure size 864x864 with 0 Axes>"
     },
     "metadata": {}
    },
    {
     "output_type": "display_data",
     "data": {
      "text/plain": "<Figure size 864x864 with 0 Axes>"
     },
     "metadata": {}
    },
    {
     "output_type": "display_data",
     "data": {
      "text/plain": "<Figure size 864x864 with 0 Axes>"
     },
     "metadata": {}
    },
    {
     "output_type": "display_data",
     "data": {
      "text/plain": "<Figure size 864x864 with 0 Axes>"
     },
     "metadata": {}
    },
    {
     "output_type": "display_data",
     "data": {
      "text/plain": "<Figure size 864x864 with 0 Axes>"
     },
     "metadata": {}
    },
    {
     "output_type": "display_data",
     "data": {
      "text/plain": "<Figure size 864x864 with 0 Axes>"
     },
     "metadata": {}
    },
    {
     "output_type": "display_data",
     "data": {
      "text/plain": "<Figure size 864x864 with 0 Axes>"
     },
     "metadata": {}
    },
    {
     "output_type": "display_data",
     "data": {
      "text/plain": "<Figure size 864x864 with 0 Axes>"
     },
     "metadata": {}
    },
    {
     "output_type": "display_data",
     "data": {
      "text/plain": "<Figure size 864x864 with 0 Axes>"
     },
     "metadata": {}
    },
    {
     "output_type": "display_data",
     "data": {
      "text/plain": "<Figure size 864x864 with 0 Axes>"
     },
     "metadata": {}
    },
    {
     "output_type": "display_data",
     "data": {
      "text/plain": "<Figure size 864x864 with 0 Axes>"
     },
     "metadata": {}
    },
    {
     "output_type": "display_data",
     "data": {
      "text/plain": "<Figure size 864x864 with 0 Axes>"
     },
     "metadata": {}
    },
    {
     "output_type": "display_data",
     "data": {
      "text/plain": "<Figure size 864x864 with 0 Axes>"
     },
     "metadata": {}
    },
    {
     "output_type": "display_data",
     "data": {
      "text/plain": "<Figure size 864x864 with 0 Axes>"
     },
     "metadata": {}
    },
    {
     "output_type": "display_data",
     "data": {
      "text/plain": "<Figure size 864x864 with 0 Axes>"
     },
     "metadata": {}
    },
    {
     "output_type": "display_data",
     "data": {
      "text/plain": "<Figure size 864x864 with 0 Axes>"
     },
     "metadata": {}
    },
    {
     "output_type": "display_data",
     "data": {
      "text/plain": "<Figure size 864x864 with 0 Axes>"
     },
     "metadata": {}
    },
    {
     "output_type": "display_data",
     "data": {
      "text/plain": "<Figure size 864x864 with 0 Axes>"
     },
     "metadata": {}
    },
    {
     "output_type": "display_data",
     "data": {
      "text/plain": "<Figure size 864x864 with 0 Axes>"
     },
     "metadata": {}
    },
    {
     "output_type": "display_data",
     "data": {
      "text/plain": "<Figure size 864x864 with 0 Axes>"
     },
     "metadata": {}
    },
    {
     "output_type": "display_data",
     "data": {
      "text/plain": "<Figure size 864x864 with 0 Axes>"
     },
     "metadata": {}
    },
    {
     "output_type": "display_data",
     "data": {
      "text/plain": "<Figure size 864x864 with 0 Axes>"
     },
     "metadata": {}
    },
    {
     "output_type": "display_data",
     "data": {
      "text/plain": "<Figure size 864x864 with 0 Axes>"
     },
     "metadata": {}
    },
    {
     "output_type": "display_data",
     "data": {
      "text/plain": "<Figure size 864x864 with 0 Axes>"
     },
     "metadata": {}
    },
    {
     "output_type": "display_data",
     "data": {
      "text/plain": "<Figure size 864x864 with 0 Axes>"
     },
     "metadata": {}
    },
    {
     "output_type": "display_data",
     "data": {
      "text/plain": "<Figure size 864x864 with 0 Axes>"
     },
     "metadata": {}
    },
    {
     "output_type": "display_data",
     "data": {
      "text/plain": "<Figure size 864x864 with 0 Axes>"
     },
     "metadata": {}
    },
    {
     "output_type": "display_data",
     "data": {
      "text/plain": "<Figure size 864x864 with 0 Axes>"
     },
     "metadata": {}
    },
    {
     "output_type": "display_data",
     "data": {
      "text/plain": "<Figure size 864x864 with 0 Axes>"
     },
     "metadata": {}
    },
    {
     "output_type": "display_data",
     "data": {
      "text/plain": "<Figure size 864x864 with 0 Axes>"
     },
     "metadata": {}
    },
    {
     "output_type": "display_data",
     "data": {
      "text/plain": "<Figure size 864x864 with 0 Axes>"
     },
     "metadata": {}
    },
    {
     "output_type": "display_data",
     "data": {
      "text/plain": "<Figure size 864x864 with 0 Axes>"
     },
     "metadata": {}
    },
    {
     "output_type": "display_data",
     "data": {
      "text/plain": "<Figure size 864x864 with 0 Axes>"
     },
     "metadata": {}
    },
    {
     "output_type": "display_data",
     "data": {
      "text/plain": "<Figure size 864x864 with 0 Axes>"
     },
     "metadata": {}
    },
    {
     "output_type": "display_data",
     "data": {
      "text/plain": "<Figure size 864x864 with 0 Axes>"
     },
     "metadata": {}
    },
    {
     "output_type": "display_data",
     "data": {
      "text/plain": "<Figure size 864x864 with 0 Axes>"
     },
     "metadata": {}
    },
    {
     "output_type": "display_data",
     "data": {
      "text/plain": "<Figure size 864x864 with 0 Axes>"
     },
     "metadata": {}
    },
    {
     "output_type": "display_data",
     "data": {
      "text/plain": "<Figure size 864x864 with 0 Axes>"
     },
     "metadata": {}
    },
    {
     "output_type": "display_data",
     "data": {
      "text/plain": "<Figure size 864x864 with 0 Axes>"
     },
     "metadata": {}
    },
    {
     "output_type": "display_data",
     "data": {
      "text/plain": "<Figure size 864x864 with 0 Axes>"
     },
     "metadata": {}
    },
    {
     "output_type": "display_data",
     "data": {
      "text/plain": "<Figure size 864x864 with 0 Axes>"
     },
     "metadata": {}
    },
    {
     "output_type": "display_data",
     "data": {
      "text/plain": "<Figure size 864x864 with 0 Axes>"
     },
     "metadata": {}
    },
    {
     "output_type": "display_data",
     "data": {
      "text/plain": "<Figure size 864x864 with 0 Axes>"
     },
     "metadata": {}
    },
    {
     "output_type": "display_data",
     "data": {
      "text/plain": "<Figure size 864x864 with 0 Axes>"
     },
     "metadata": {}
    },
    {
     "output_type": "display_data",
     "data": {
      "text/plain": "<Figure size 864x864 with 0 Axes>"
     },
     "metadata": {}
    },
    {
     "output_type": "display_data",
     "data": {
      "text/plain": "<Figure size 864x864 with 0 Axes>"
     },
     "metadata": {}
    },
    {
     "output_type": "display_data",
     "data": {
      "text/plain": "<Figure size 864x864 with 0 Axes>"
     },
     "metadata": {}
    },
    {
     "output_type": "display_data",
     "data": {
      "text/plain": "<Figure size 864x864 with 0 Axes>"
     },
     "metadata": {}
    },
    {
     "output_type": "display_data",
     "data": {
      "text/plain": "<Figure size 864x864 with 0 Axes>"
     },
     "metadata": {}
    },
    {
     "output_type": "display_data",
     "data": {
      "text/plain": "<Figure size 864x864 with 0 Axes>"
     },
     "metadata": {}
    },
    {
     "output_type": "display_data",
     "data": {
      "text/plain": "<Figure size 864x864 with 0 Axes>"
     },
     "metadata": {}
    },
    {
     "output_type": "display_data",
     "data": {
      "text/plain": "<Figure size 864x864 with 0 Axes>"
     },
     "metadata": {}
    },
    {
     "output_type": "display_data",
     "data": {
      "text/plain": "<Figure size 864x864 with 0 Axes>"
     },
     "metadata": {}
    },
    {
     "output_type": "display_data",
     "data": {
      "text/plain": "<Figure size 864x864 with 0 Axes>"
     },
     "metadata": {}
    },
    {
     "output_type": "display_data",
     "data": {
      "text/plain": "<Figure size 864x864 with 0 Axes>"
     },
     "metadata": {}
    },
    {
     "output_type": "display_data",
     "data": {
      "text/plain": "<Figure size 864x864 with 0 Axes>"
     },
     "metadata": {}
    },
    {
     "output_type": "display_data",
     "data": {
      "text/plain": "<Figure size 864x864 with 0 Axes>"
     },
     "metadata": {}
    },
    {
     "output_type": "display_data",
     "data": {
      "text/plain": "<Figure size 864x864 with 0 Axes>"
     },
     "metadata": {}
    },
    {
     "output_type": "display_data",
     "data": {
      "text/plain": "<Figure size 864x864 with 0 Axes>"
     },
     "metadata": {}
    },
    {
     "output_type": "display_data",
     "data": {
      "text/plain": "<Figure size 864x864 with 0 Axes>"
     },
     "metadata": {}
    },
    {
     "output_type": "display_data",
     "data": {
      "text/plain": "<Figure size 864x864 with 0 Axes>"
     },
     "metadata": {}
    },
    {
     "output_type": "display_data",
     "data": {
      "text/plain": "<Figure size 864x864 with 0 Axes>"
     },
     "metadata": {}
    },
    {
     "output_type": "display_data",
     "data": {
      "text/plain": "<Figure size 864x864 with 0 Axes>"
     },
     "metadata": {}
    },
    {
     "output_type": "display_data",
     "data": {
      "text/plain": "<Figure size 864x864 with 0 Axes>"
     },
     "metadata": {}
    },
    {
     "output_type": "display_data",
     "data": {
      "text/plain": "<Figure size 864x864 with 0 Axes>"
     },
     "metadata": {}
    },
    {
     "output_type": "display_data",
     "data": {
      "text/plain": "<Figure size 864x864 with 0 Axes>"
     },
     "metadata": {}
    },
    {
     "output_type": "display_data",
     "data": {
      "text/plain": "<Figure size 864x864 with 0 Axes>"
     },
     "metadata": {}
    },
    {
     "output_type": "display_data",
     "data": {
      "text/plain": "<Figure size 864x864 with 0 Axes>"
     },
     "metadata": {}
    },
    {
     "output_type": "display_data",
     "data": {
      "text/plain": "<Figure size 864x864 with 0 Axes>"
     },
     "metadata": {}
    },
    {
     "output_type": "display_data",
     "data": {
      "text/plain": "<Figure size 864x864 with 0 Axes>"
     },
     "metadata": {}
    },
    {
     "output_type": "display_data",
     "data": {
      "text/plain": "<Figure size 864x864 with 0 Axes>"
     },
     "metadata": {}
    },
    {
     "output_type": "display_data",
     "data": {
      "text/plain": "<Figure size 864x864 with 0 Axes>"
     },
     "metadata": {}
    },
    {
     "output_type": "display_data",
     "data": {
      "text/plain": "<Figure size 864x864 with 0 Axes>"
     },
     "metadata": {}
    },
    {
     "output_type": "display_data",
     "data": {
      "text/plain": "<Figure size 864x864 with 0 Axes>"
     },
     "metadata": {}
    },
    {
     "output_type": "display_data",
     "data": {
      "text/plain": "<Figure size 864x864 with 0 Axes>"
     },
     "metadata": {}
    },
    {
     "output_type": "display_data",
     "data": {
      "text/plain": "<Figure size 864x864 with 0 Axes>"
     },
     "metadata": {}
    },
    {
     "output_type": "display_data",
     "data": {
      "text/plain": "<Figure size 864x864 with 0 Axes>"
     },
     "metadata": {}
    },
    {
     "output_type": "display_data",
     "data": {
      "text/plain": "<Figure size 864x864 with 0 Axes>"
     },
     "metadata": {}
    },
    {
     "output_type": "display_data",
     "data": {
      "text/plain": "<Figure size 864x864 with 0 Axes>"
     },
     "metadata": {}
    },
    {
     "output_type": "display_data",
     "data": {
      "text/plain": "<Figure size 864x864 with 0 Axes>"
     },
     "metadata": {}
    },
    {
     "output_type": "display_data",
     "data": {
      "text/plain": "<Figure size 864x864 with 0 Axes>"
     },
     "metadata": {}
    },
    {
     "output_type": "display_data",
     "data": {
      "text/plain": "<Figure size 864x864 with 0 Axes>"
     },
     "metadata": {}
    },
    {
     "output_type": "display_data",
     "data": {
      "text/plain": "<Figure size 864x864 with 0 Axes>"
     },
     "metadata": {}
    },
    {
     "output_type": "display_data",
     "data": {
      "text/plain": "<Figure size 864x864 with 0 Axes>"
     },
     "metadata": {}
    },
    {
     "output_type": "display_data",
     "data": {
      "text/plain": "<Figure size 864x864 with 0 Axes>"
     },
     "metadata": {}
    },
    {
     "output_type": "display_data",
     "data": {
      "text/plain": "<Figure size 864x864 with 0 Axes>"
     },
     "metadata": {}
    },
    {
     "output_type": "display_data",
     "data": {
      "text/plain": "<Figure size 864x864 with 0 Axes>"
     },
     "metadata": {}
    },
    {
     "output_type": "display_data",
     "data": {
      "text/plain": "<Figure size 864x864 with 0 Axes>"
     },
     "metadata": {}
    },
    {
     "output_type": "display_data",
     "data": {
      "text/plain": "<Figure size 864x864 with 0 Axes>"
     },
     "metadata": {}
    },
    {
     "output_type": "display_data",
     "data": {
      "text/plain": "<Figure size 864x864 with 0 Axes>"
     },
     "metadata": {}
    },
    {
     "output_type": "display_data",
     "data": {
      "text/plain": "<Figure size 864x864 with 0 Axes>"
     },
     "metadata": {}
    },
    {
     "output_type": "display_data",
     "data": {
      "text/plain": "<Figure size 864x864 with 0 Axes>"
     },
     "metadata": {}
    },
    {
     "output_type": "display_data",
     "data": {
      "text/plain": "<Figure size 864x864 with 0 Axes>"
     },
     "metadata": {}
    },
    {
     "output_type": "display_data",
     "data": {
      "text/plain": "<Figure size 864x864 with 0 Axes>"
     },
     "metadata": {}
    },
    {
     "output_type": "display_data",
     "data": {
      "text/plain": "<Figure size 864x864 with 0 Axes>"
     },
     "metadata": {}
    },
    {
     "output_type": "display_data",
     "data": {
      "text/plain": "<Figure size 864x864 with 0 Axes>"
     },
     "metadata": {}
    },
    {
     "output_type": "display_data",
     "data": {
      "text/plain": "<Figure size 864x864 with 0 Axes>"
     },
     "metadata": {}
    },
    {
     "output_type": "display_data",
     "data": {
      "text/plain": "<Figure size 864x864 with 0 Axes>"
     },
     "metadata": {}
    },
    {
     "output_type": "display_data",
     "data": {
      "text/plain": "<Figure size 864x864 with 0 Axes>"
     },
     "metadata": {}
    },
    {
     "output_type": "display_data",
     "data": {
      "text/plain": "<Figure size 864x864 with 0 Axes>"
     },
     "metadata": {}
    },
    {
     "output_type": "display_data",
     "data": {
      "text/plain": "<Figure size 864x864 with 0 Axes>"
     },
     "metadata": {}
    },
    {
     "output_type": "display_data",
     "data": {
      "text/plain": "<Figure size 864x864 with 0 Axes>"
     },
     "metadata": {}
    },
    {
     "output_type": "display_data",
     "data": {
      "text/plain": "<Figure size 864x864 with 0 Axes>"
     },
     "metadata": {}
    },
    {
     "output_type": "display_data",
     "data": {
      "text/plain": "<Figure size 864x864 with 0 Axes>"
     },
     "metadata": {}
    },
    {
     "output_type": "display_data",
     "data": {
      "text/plain": "<Figure size 864x864 with 0 Axes>"
     },
     "metadata": {}
    },
    {
     "output_type": "display_data",
     "data": {
      "text/plain": "<Figure size 864x864 with 0 Axes>"
     },
     "metadata": {}
    },
    {
     "output_type": "display_data",
     "data": {
      "text/plain": "<Figure size 864x864 with 0 Axes>"
     },
     "metadata": {}
    },
    {
     "output_type": "display_data",
     "data": {
      "text/plain": "<Figure size 864x864 with 0 Axes>"
     },
     "metadata": {}
    },
    {
     "output_type": "display_data",
     "data": {
      "text/plain": "<Figure size 864x864 with 0 Axes>"
     },
     "metadata": {}
    },
    {
     "output_type": "display_data",
     "data": {
      "text/plain": "<Figure size 864x864 with 0 Axes>"
     },
     "metadata": {}
    },
    {
     "output_type": "display_data",
     "data": {
      "text/plain": "<Figure size 864x864 with 0 Axes>"
     },
     "metadata": {}
    },
    {
     "output_type": "display_data",
     "data": {
      "text/plain": "<Figure size 864x864 with 0 Axes>"
     },
     "metadata": {}
    },
    {
     "output_type": "display_data",
     "data": {
      "text/plain": "<Figure size 864x864 with 0 Axes>"
     },
     "metadata": {}
    },
    {
     "output_type": "display_data",
     "data": {
      "text/plain": "<Figure size 864x864 with 0 Axes>"
     },
     "metadata": {}
    },
    {
     "output_type": "display_data",
     "data": {
      "text/plain": "<Figure size 864x864 with 0 Axes>"
     },
     "metadata": {}
    },
    {
     "output_type": "display_data",
     "data": {
      "text/plain": "<Figure size 864x864 with 0 Axes>"
     },
     "metadata": {}
    },
    {
     "output_type": "display_data",
     "data": {
      "text/plain": "<Figure size 864x864 with 0 Axes>"
     },
     "metadata": {}
    },
    {
     "output_type": "display_data",
     "data": {
      "text/plain": "<Figure size 864x864 with 0 Axes>"
     },
     "metadata": {}
    },
    {
     "output_type": "display_data",
     "data": {
      "text/plain": "<Figure size 864x864 with 0 Axes>"
     },
     "metadata": {}
    },
    {
     "output_type": "display_data",
     "data": {
      "text/plain": "<Figure size 864x864 with 0 Axes>"
     },
     "metadata": {}
    },
    {
     "output_type": "display_data",
     "data": {
      "text/plain": "<Figure size 864x864 with 0 Axes>"
     },
     "metadata": {}
    },
    {
     "output_type": "display_data",
     "data": {
      "text/plain": "<Figure size 864x864 with 0 Axes>"
     },
     "metadata": {}
    },
    {
     "output_type": "display_data",
     "data": {
      "text/plain": "<Figure size 864x864 with 0 Axes>"
     },
     "metadata": {}
    },
    {
     "output_type": "display_data",
     "data": {
      "text/plain": "<Figure size 864x864 with 0 Axes>"
     },
     "metadata": {}
    },
    {
     "output_type": "display_data",
     "data": {
      "text/plain": "<Figure size 864x864 with 0 Axes>"
     },
     "metadata": {}
    },
    {
     "output_type": "display_data",
     "data": {
      "text/plain": "<Figure size 864x864 with 0 Axes>"
     },
     "metadata": {}
    },
    {
     "output_type": "display_data",
     "data": {
      "text/plain": "<Figure size 864x864 with 0 Axes>"
     },
     "metadata": {}
    },
    {
     "output_type": "display_data",
     "data": {
      "text/plain": "<Figure size 864x864 with 0 Axes>"
     },
     "metadata": {}
    },
    {
     "output_type": "display_data",
     "data": {
      "text/plain": "<Figure size 864x864 with 0 Axes>"
     },
     "metadata": {}
    },
    {
     "output_type": "display_data",
     "data": {
      "text/plain": "<Figure size 864x864 with 0 Axes>"
     },
     "metadata": {}
    },
    {
     "output_type": "display_data",
     "data": {
      "text/plain": "<Figure size 864x864 with 0 Axes>"
     },
     "metadata": {}
    },
    {
     "output_type": "display_data",
     "data": {
      "text/plain": "<Figure size 864x864 with 0 Axes>"
     },
     "metadata": {}
    },
    {
     "output_type": "display_data",
     "data": {
      "text/plain": "<Figure size 864x864 with 0 Axes>"
     },
     "metadata": {}
    },
    {
     "output_type": "display_data",
     "data": {
      "text/plain": "<Figure size 864x864 with 0 Axes>"
     },
     "metadata": {}
    },
    {
     "output_type": "display_data",
     "data": {
      "text/plain": "<Figure size 864x864 with 0 Axes>"
     },
     "metadata": {}
    },
    {
     "output_type": "display_data",
     "data": {
      "text/plain": "<Figure size 864x864 with 0 Axes>"
     },
     "metadata": {}
    },
    {
     "output_type": "display_data",
     "data": {
      "text/plain": "<Figure size 864x864 with 0 Axes>"
     },
     "metadata": {}
    },
    {
     "output_type": "display_data",
     "data": {
      "text/plain": "<Figure size 864x864 with 0 Axes>"
     },
     "metadata": {}
    },
    {
     "output_type": "display_data",
     "data": {
      "text/plain": "<Figure size 864x864 with 0 Axes>"
     },
     "metadata": {}
    },
    {
     "output_type": "display_data",
     "data": {
      "text/plain": "<Figure size 864x864 with 0 Axes>"
     },
     "metadata": {}
    },
    {
     "output_type": "display_data",
     "data": {
      "text/plain": "<Figure size 864x864 with 0 Axes>"
     },
     "metadata": {}
    },
    {
     "output_type": "display_data",
     "data": {
      "text/plain": "<Figure size 864x864 with 0 Axes>"
     },
     "metadata": {}
    },
    {
     "output_type": "display_data",
     "data": {
      "text/plain": "<Figure size 864x864 with 0 Axes>"
     },
     "metadata": {}
    },
    {
     "output_type": "display_data",
     "data": {
      "text/plain": "<Figure size 864x864 with 0 Axes>"
     },
     "metadata": {}
    },
    {
     "output_type": "display_data",
     "data": {
      "text/plain": "<Figure size 864x864 with 0 Axes>"
     },
     "metadata": {}
    },
    {
     "output_type": "display_data",
     "data": {
      "text/plain": "<Figure size 864x864 with 0 Axes>"
     },
     "metadata": {}
    },
    {
     "output_type": "display_data",
     "data": {
      "text/plain": "<Figure size 864x864 with 0 Axes>"
     },
     "metadata": {}
    },
    {
     "output_type": "display_data",
     "data": {
      "text/plain": "<Figure size 864x864 with 0 Axes>"
     },
     "metadata": {}
    },
    {
     "output_type": "display_data",
     "data": {
      "text/plain": "<Figure size 864x864 with 0 Axes>"
     },
     "metadata": {}
    },
    {
     "output_type": "display_data",
     "data": {
      "text/plain": "<Figure size 864x864 with 0 Axes>"
     },
     "metadata": {}
    },
    {
     "output_type": "display_data",
     "data": {
      "text/plain": "<Figure size 864x864 with 0 Axes>"
     },
     "metadata": {}
    },
    {
     "output_type": "display_data",
     "data": {
      "text/plain": "<Figure size 864x864 with 0 Axes>"
     },
     "metadata": {}
    },
    {
     "output_type": "display_data",
     "data": {
      "text/plain": "<Figure size 864x864 with 0 Axes>"
     },
     "metadata": {}
    },
    {
     "output_type": "display_data",
     "data": {
      "text/plain": "<Figure size 864x864 with 0 Axes>"
     },
     "metadata": {}
    },
    {
     "output_type": "display_data",
     "data": {
      "text/plain": "<Figure size 864x864 with 0 Axes>"
     },
     "metadata": {}
    },
    {
     "output_type": "display_data",
     "data": {
      "text/plain": "<Figure size 864x864 with 0 Axes>"
     },
     "metadata": {}
    },
    {
     "output_type": "display_data",
     "data": {
      "text/plain": "<Figure size 864x864 with 0 Axes>"
     },
     "metadata": {}
    },
    {
     "output_type": "display_data",
     "data": {
      "text/plain": "<Figure size 864x864 with 0 Axes>"
     },
     "metadata": {}
    },
    {
     "output_type": "display_data",
     "data": {
      "text/plain": "<Figure size 864x864 with 0 Axes>"
     },
     "metadata": {}
    },
    {
     "output_type": "display_data",
     "data": {
      "text/plain": "<Figure size 864x864 with 0 Axes>"
     },
     "metadata": {}
    },
    {
     "output_type": "display_data",
     "data": {
      "text/plain": "<Figure size 864x864 with 0 Axes>"
     },
     "metadata": {}
    },
    {
     "output_type": "display_data",
     "data": {
      "text/plain": "<Figure size 864x864 with 0 Axes>"
     },
     "metadata": {}
    },
    {
     "output_type": "display_data",
     "data": {
      "text/plain": "<Figure size 864x864 with 0 Axes>"
     },
     "metadata": {}
    },
    {
     "output_type": "display_data",
     "data": {
      "text/plain": "<Figure size 864x864 with 0 Axes>"
     },
     "metadata": {}
    },
    {
     "output_type": "display_data",
     "data": {
      "text/plain": "<Figure size 864x864 with 0 Axes>"
     },
     "metadata": {}
    },
    {
     "output_type": "display_data",
     "data": {
      "text/plain": "<Figure size 864x864 with 0 Axes>"
     },
     "metadata": {}
    },
    {
     "output_type": "display_data",
     "data": {
      "text/plain": "<Figure size 864x864 with 0 Axes>"
     },
     "metadata": {}
    },
    {
     "output_type": "display_data",
     "data": {
      "text/plain": "<Figure size 864x864 with 0 Axes>"
     },
     "metadata": {}
    },
    {
     "output_type": "display_data",
     "data": {
      "text/plain": "<Figure size 864x864 with 0 Axes>"
     },
     "metadata": {}
    },
    {
     "output_type": "display_data",
     "data": {
      "text/plain": "<Figure size 864x864 with 0 Axes>"
     },
     "metadata": {}
    },
    {
     "output_type": "display_data",
     "data": {
      "text/plain": "<Figure size 864x864 with 0 Axes>"
     },
     "metadata": {}
    },
    {
     "output_type": "display_data",
     "data": {
      "text/plain": "<Figure size 864x864 with 0 Axes>"
     },
     "metadata": {}
    },
    {
     "output_type": "display_data",
     "data": {
      "text/plain": "<Figure size 864x864 with 0 Axes>"
     },
     "metadata": {}
    },
    {
     "output_type": "display_data",
     "data": {
      "text/plain": "<Figure size 864x864 with 0 Axes>"
     },
     "metadata": {}
    },
    {
     "output_type": "display_data",
     "data": {
      "text/plain": "<Figure size 864x864 with 0 Axes>"
     },
     "metadata": {}
    },
    {
     "output_type": "display_data",
     "data": {
      "text/plain": "<Figure size 864x864 with 0 Axes>"
     },
     "metadata": {}
    },
    {
     "output_type": "display_data",
     "data": {
      "text/plain": "<Figure size 864x864 with 0 Axes>"
     },
     "metadata": {}
    },
    {
     "output_type": "display_data",
     "data": {
      "text/plain": "<Figure size 864x864 with 0 Axes>"
     },
     "metadata": {}
    },
    {
     "output_type": "display_data",
     "data": {
      "text/plain": "<Figure size 864x864 with 0 Axes>"
     },
     "metadata": {}
    },
    {
     "output_type": "display_data",
     "data": {
      "text/plain": "<Figure size 864x864 with 0 Axes>"
     },
     "metadata": {}
    },
    {
     "output_type": "display_data",
     "data": {
      "text/plain": "<Figure size 864x864 with 0 Axes>"
     },
     "metadata": {}
    },
    {
     "output_type": "display_data",
     "data": {
      "text/plain": "<Figure size 864x864 with 0 Axes>"
     },
     "metadata": {}
    },
    {
     "output_type": "display_data",
     "data": {
      "text/plain": "<Figure size 864x864 with 0 Axes>"
     },
     "metadata": {}
    },
    {
     "output_type": "display_data",
     "data": {
      "text/plain": "<Figure size 864x864 with 0 Axes>"
     },
     "metadata": {}
    },
    {
     "output_type": "display_data",
     "data": {
      "text/plain": "<Figure size 864x864 with 0 Axes>"
     },
     "metadata": {}
    },
    {
     "output_type": "display_data",
     "data": {
      "text/plain": "<Figure size 864x864 with 0 Axes>"
     },
     "metadata": {}
    },
    {
     "output_type": "display_data",
     "data": {
      "text/plain": "<Figure size 864x864 with 0 Axes>"
     },
     "metadata": {}
    },
    {
     "output_type": "display_data",
     "data": {
      "text/plain": "<Figure size 864x864 with 0 Axes>"
     },
     "metadata": {}
    },
    {
     "output_type": "display_data",
     "data": {
      "text/plain": "<Figure size 864x864 with 0 Axes>"
     },
     "metadata": {}
    },
    {
     "output_type": "display_data",
     "data": {
      "text/plain": "<Figure size 864x864 with 0 Axes>"
     },
     "metadata": {}
    },
    {
     "output_type": "display_data",
     "data": {
      "text/plain": "<Figure size 864x864 with 0 Axes>"
     },
     "metadata": {}
    },
    {
     "output_type": "display_data",
     "data": {
      "text/plain": "<Figure size 864x864 with 0 Axes>"
     },
     "metadata": {}
    },
    {
     "output_type": "display_data",
     "data": {
      "text/plain": "<Figure size 864x864 with 0 Axes>"
     },
     "metadata": {}
    },
    {
     "output_type": "display_data",
     "data": {
      "text/plain": "<Figure size 864x864 with 0 Axes>"
     },
     "metadata": {}
    },
    {
     "output_type": "display_data",
     "data": {
      "text/plain": "<Figure size 864x864 with 0 Axes>"
     },
     "metadata": {}
    },
    {
     "output_type": "display_data",
     "data": {
      "text/plain": "<Figure size 864x864 with 0 Axes>"
     },
     "metadata": {}
    },
    {
     "output_type": "display_data",
     "data": {
      "text/plain": "<Figure size 864x864 with 0 Axes>"
     },
     "metadata": {}
    },
    {
     "output_type": "display_data",
     "data": {
      "text/plain": "<Figure size 864x864 with 0 Axes>"
     },
     "metadata": {}
    },
    {
     "output_type": "display_data",
     "data": {
      "text/plain": "<Figure size 864x864 with 0 Axes>"
     },
     "metadata": {}
    },
    {
     "output_type": "display_data",
     "data": {
      "text/plain": "<Figure size 864x864 with 0 Axes>"
     },
     "metadata": {}
    },
    {
     "output_type": "display_data",
     "data": {
      "text/plain": "<Figure size 864x864 with 0 Axes>"
     },
     "metadata": {}
    },
    {
     "output_type": "display_data",
     "data": {
      "text/plain": "<Figure size 864x864 with 0 Axes>"
     },
     "metadata": {}
    },
    {
     "output_type": "display_data",
     "data": {
      "text/plain": "<Figure size 864x864 with 0 Axes>"
     },
     "metadata": {}
    },
    {
     "output_type": "display_data",
     "data": {
      "text/plain": "<Figure size 864x864 with 0 Axes>"
     },
     "metadata": {}
    },
    {
     "output_type": "display_data",
     "data": {
      "text/plain": "<Figure size 864x864 with 0 Axes>"
     },
     "metadata": {}
    },
    {
     "output_type": "display_data",
     "data": {
      "text/plain": "<Figure size 864x864 with 0 Axes>"
     },
     "metadata": {}
    },
    {
     "output_type": "display_data",
     "data": {
      "text/plain": "<Figure size 864x864 with 0 Axes>"
     },
     "metadata": {}
    },
    {
     "output_type": "display_data",
     "data": {
      "text/plain": "<Figure size 864x864 with 0 Axes>"
     },
     "metadata": {}
    },
    {
     "output_type": "display_data",
     "data": {
      "text/plain": "<Figure size 864x864 with 0 Axes>"
     },
     "metadata": {}
    },
    {
     "output_type": "display_data",
     "data": {
      "text/plain": "<Figure size 864x864 with 0 Axes>"
     },
     "metadata": {}
    },
    {
     "output_type": "display_data",
     "data": {
      "text/plain": "<Figure size 864x864 with 0 Axes>"
     },
     "metadata": {}
    },
    {
     "output_type": "display_data",
     "data": {
      "text/plain": "<Figure size 864x864 with 0 Axes>"
     },
     "metadata": {}
    },
    {
     "output_type": "display_data",
     "data": {
      "text/plain": "<Figure size 864x864 with 0 Axes>"
     },
     "metadata": {}
    },
    {
     "output_type": "display_data",
     "data": {
      "text/plain": "<Figure size 864x864 with 0 Axes>"
     },
     "metadata": {}
    },
    {
     "output_type": "display_data",
     "data": {
      "text/plain": "<Figure size 864x864 with 0 Axes>"
     },
     "metadata": {}
    },
    {
     "output_type": "display_data",
     "data": {
      "text/plain": "<Figure size 864x864 with 0 Axes>"
     },
     "metadata": {}
    },
    {
     "output_type": "display_data",
     "data": {
      "text/plain": "<Figure size 864x864 with 0 Axes>"
     },
     "metadata": {}
    },
    {
     "output_type": "display_data",
     "data": {
      "text/plain": "<Figure size 864x864 with 0 Axes>"
     },
     "metadata": {}
    },
    {
     "output_type": "display_data",
     "data": {
      "text/plain": "<Figure size 864x864 with 0 Axes>"
     },
     "metadata": {}
    },
    {
     "output_type": "display_data",
     "data": {
      "text/plain": "<Figure size 864x864 with 0 Axes>"
     },
     "metadata": {}
    },
    {
     "output_type": "display_data",
     "data": {
      "text/plain": "<Figure size 864x864 with 0 Axes>"
     },
     "metadata": {}
    },
    {
     "output_type": "display_data",
     "data": {
      "text/plain": "<Figure size 864x864 with 0 Axes>"
     },
     "metadata": {}
    },
    {
     "output_type": "display_data",
     "data": {
      "text/plain": "<Figure size 864x864 with 0 Axes>"
     },
     "metadata": {}
    },
    {
     "output_type": "display_data",
     "data": {
      "text/plain": "<Figure size 864x864 with 0 Axes>"
     },
     "metadata": {}
    },
    {
     "output_type": "display_data",
     "data": {
      "text/plain": "<Figure size 864x864 with 0 Axes>"
     },
     "metadata": {}
    },
    {
     "output_type": "display_data",
     "data": {
      "text/plain": "<Figure size 864x864 with 0 Axes>"
     },
     "metadata": {}
    },
    {
     "output_type": "display_data",
     "data": {
      "text/plain": "<Figure size 864x864 with 0 Axes>"
     },
     "metadata": {}
    },
    {
     "output_type": "display_data",
     "data": {
      "text/plain": "<Figure size 864x864 with 0 Axes>"
     },
     "metadata": {}
    },
    {
     "output_type": "display_data",
     "data": {
      "text/plain": "<Figure size 864x864 with 0 Axes>"
     },
     "metadata": {}
    },
    {
     "output_type": "display_data",
     "data": {
      "text/plain": "<Figure size 864x864 with 0 Axes>"
     },
     "metadata": {}
    },
    {
     "output_type": "display_data",
     "data": {
      "text/plain": "<Figure size 864x864 with 0 Axes>"
     },
     "metadata": {}
    },
    {
     "output_type": "display_data",
     "data": {
      "text/plain": "<Figure size 864x864 with 0 Axes>"
     },
     "metadata": {}
    },
    {
     "output_type": "display_data",
     "data": {
      "text/plain": "<Figure size 864x864 with 0 Axes>"
     },
     "metadata": {}
    },
    {
     "output_type": "display_data",
     "data": {
      "text/plain": "<Figure size 864x864 with 0 Axes>"
     },
     "metadata": {}
    }
   ],
   "source": [
    "from torch.optim import Adam\n",
    "from torchvision.datasets import CIFAR10\n",
    "import torchvision.transforms as T\n",
    "from torchvision.utils import save_image\n",
    "from torch.utils.data import DataLoader\n",
    "from time import time\n",
    "import shutil, os\n",
    "\n",
    "shutil.rmtree(\"Toy_samples\")\n",
    "os.mkdir(\"Toy_samples\")\n",
    "\n",
    "train_data = torch.tensor(toy_data, dtype = torch.float)\n",
    "\n",
    "model = RealNVP(n_hidden = 128, n_flow = 8)\n",
    "optimizer = Adam(model.parameters(), lr = 1e-4)\n",
    "\n",
    "train_loss_arr = []\n",
    "prior_arr = []\n",
    "n_iter = 0\n",
    "for ep in range(280):\n",
    "    model.train()\n",
    "    start = time()\n",
    "    batch_size = train_data.shape[0]\n",
    "    optimizer.zero_grad()\n",
    "    output, log_det = model(train_data)\n",
    "    loss_prior = ((output ** 2+ np.log(2 * np.pi))/2).sum(dim = 1)\n",
    "    loss = loss_prior - log_det\n",
    "    loss = loss.mean()\n",
    "    loss.backward()\n",
    "    optimizer.step()\n",
    "    n_iter += 1\n",
    "    train_loss_arr.append(loss.item())\n",
    "    prior_arr.append(loss_prior.mean().item())\n",
    "    model.eval()\n",
    "    with torch.no_grad():\n",
    "        z = torch.randn(299, 2)\n",
    "        generated = model.reverse(z)\n",
    "    draw_figure(train_data.numpy(), output.detach().numpy(), z.numpy(), generated.numpy(), ep)\n",
    "    print(f\"[{ep}] train_loss: {loss.item():.4f}, loss_prior: {loss_prior.mean().item():.4f}\")\n"
   ]
  },
  {
   "cell_type": "code",
   "execution_count": 35,
   "metadata": {},
   "outputs": [],
   "source": [
    "torch.save(model.state_dict(),\"Toy_samples/pretrained.pth\")"
   ]
  },
  {
   "cell_type": "code",
   "execution_count": 1,
   "metadata": {},
   "outputs": [
    {
     "output_type": "error",
     "ename": "NameError",
     "evalue": "name 'torch' is not defined",
     "traceback": [
      "\u001b[0;31m---------------------------------------------------------------------------\u001b[0m",
      "\u001b[0;31mNameError\u001b[0m                                 Traceback (most recent call last)",
      "\u001b[0;32m<ipython-input-1-705aaa16ec00>\u001b[0m in \u001b[0;36m<module>\u001b[0;34m\u001b[0m\n\u001b[0;32m----> 1\u001b[0;31m \u001b[0mz\u001b[0m \u001b[0;34m=\u001b[0m \u001b[0mtorch\u001b[0m\u001b[0;34m.\u001b[0m\u001b[0mrandn\u001b[0m\u001b[0;34m(\u001b[0m\u001b[0;36m1000\u001b[0m\u001b[0;34m,\u001b[0m \u001b[0;36m2\u001b[0m\u001b[0;34m)\u001b[0m\u001b[0;34m\u001b[0m\u001b[0;34m\u001b[0m\u001b[0m\n\u001b[0m\u001b[1;32m      2\u001b[0m \u001b[0mloss_prior\u001b[0m \u001b[0;34m=\u001b[0m \u001b[0;34m(\u001b[0m\u001b[0;34m(\u001b[0m\u001b[0mz\u001b[0m \u001b[0;34m**\u001b[0m \u001b[0;36m2\u001b[0m\u001b[0;34m+\u001b[0m \u001b[0mnp\u001b[0m\u001b[0;34m.\u001b[0m\u001b[0mlog\u001b[0m\u001b[0;34m(\u001b[0m\u001b[0;36m2\u001b[0m \u001b[0;34m*\u001b[0m \u001b[0mnp\u001b[0m\u001b[0;34m.\u001b[0m\u001b[0mpi\u001b[0m\u001b[0;34m)\u001b[0m\u001b[0;34m)\u001b[0m\u001b[0;34m/\u001b[0m\u001b[0;36m2\u001b[0m\u001b[0;34m)\u001b[0m\u001b[0;34m.\u001b[0m\u001b[0msum\u001b[0m\u001b[0;34m(\u001b[0m\u001b[0mdim\u001b[0m \u001b[0;34m=\u001b[0m \u001b[0;36m1\u001b[0m\u001b[0;34m)\u001b[0m\u001b[0;34m.\u001b[0m\u001b[0mmean\u001b[0m\u001b[0;34m(\u001b[0m\u001b[0;34m)\u001b[0m\u001b[0;34m.\u001b[0m\u001b[0mitem\u001b[0m\u001b[0;34m(\u001b[0m\u001b[0;34m)\u001b[0m\u001b[0;34m\u001b[0m\u001b[0;34m\u001b[0m\u001b[0m\n\u001b[1;32m      3\u001b[0m \u001b[0;34m\u001b[0m\u001b[0m\n\u001b[1;32m      4\u001b[0m \u001b[0mplt\u001b[0m\u001b[0;34m.\u001b[0m\u001b[0mplot\u001b[0m\u001b[0;34m(\u001b[0m\u001b[0mtrain_loss_arr\u001b[0m\u001b[0;34m,\u001b[0m \u001b[0;34m'g'\u001b[0m\u001b[0;34m)\u001b[0m\u001b[0;34m\u001b[0m\u001b[0;34m\u001b[0m\u001b[0m\n\u001b[1;32m      5\u001b[0m \u001b[0mplt\u001b[0m\u001b[0;34m.\u001b[0m\u001b[0mplot\u001b[0m\u001b[0;34m(\u001b[0m\u001b[0mprior_arr\u001b[0m\u001b[0;34m,\u001b[0m \u001b[0;34m'b'\u001b[0m\u001b[0;34m)\u001b[0m\u001b[0;34m\u001b[0m\u001b[0;34m\u001b[0m\u001b[0m\n",
      "\u001b[0;31mNameError\u001b[0m: name 'torch' is not defined"
     ]
    }
   ],
   "source": [
    "z = torch.randn(1000, 2)\n",
    "loss_prior = ((z ** 2+ np.log(2 * np.pi))/2).sum(dim = 1).mean().item()\n",
    "\n",
    "plt.plot(train_loss_arr, 'g')\n",
    "plt.plot(prior_arr, 'b')\n",
    "plt.axhline(y = loss_prior,  color= 'r', linestyle = \"-\")\n",
    "plt.legend(['NLL', '-logP', 'exact logP'])\n",
    "plt.savefig(\"Toy_samples/loss_plot.png\")"
   ]
  },
  {
   "cell_type": "code",
   "execution_count": null,
   "metadata": {},
   "outputs": [],
   "source": []
  }
 ]
}