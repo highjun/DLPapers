{
 "cells": [
  {
   "cell_type": "code",
   "execution_count": 2,
   "metadata": {},
   "outputs": [],
   "source": [
    "import matplotlib.pyplot as plt\n",
    "%matplotlib inline\n",
    "\n",
    "from torchvision import datasets, transforms\n",
    "\n",
    "root = \"./dataset/mnist\"\n",
    "trn_dataset = datasets.MNIST(root,\n",
    "                             download=True,\n",
    "                             train=True,\n",
    "                             transform=transforms.Compose([\n",
    "                                 transforms.Pad(2),\n",
    "                                 transforms.ToTensor(), # image to Tensor\n",
    "                                 transforms.Normalize(0,1)\n",
    "                             ])) \n",
    "\n",
    "val_dataset = datasets.MNIST(root, \n",
    "                             download=True,\n",
    "                             train=False,\n",
    "                             transform= transforms.Compose([\n",
    "                               transforms.Pad(2),\n",
    "                               transforms.ToTensor(),\n",
    "                               transforms.Normalize(0,1)\n",
    "                           ]))"
   ]
  },
  {
   "cell_type": "code",
   "execution_count": 3,
   "metadata": {},
   "outputs": [],
   "source": [
    "from torch.utils.data import DataLoader\n",
    "\n",
    "batch_size = 256\n",
    "trn_loader = DataLoader(trn_dataset,batch_size=batch_size, shuffle=True)\n",
    "val_loader = DataLoader(val_dataset,batch_size=batch_size)"
   ]
  },
  {
   "cell_type": "code",
   "execution_count": 15,
   "metadata": {},
   "outputs": [
    {
     "name": "stdout",
     "output_type": "stream",
     "text": [
      "epoch: 1/20 | trn loss: 0.6977 | val loss: 0.2654 | trn_acc: 0.790 | val_acc: 0.919\n",
      "epoch: 2/20 | trn loss: 0.2030 | val loss: 0.1417 | trn_acc: 0.937 | val_acc: 0.955\n",
      "epoch: 3/20 | trn loss: 0.1321 | val loss: 0.0937 | trn_acc: 0.960 | val_acc: 0.971\n",
      "epoch: 4/20 | trn loss: 0.0981 | val loss: 0.0801 | trn_acc: 0.970 | val_acc: 0.976\n",
      "epoch: 5/20 | trn loss: 0.0833 | val loss: 0.0762 | trn_acc: 0.974 | val_acc: 0.976\n",
      "epoch: 6/20 | trn loss: 0.0713 | val loss: 0.0596 | trn_acc: 0.978 | val_acc: 0.981\n",
      "epoch: 7/20 | trn loss: 0.0606 | val loss: 0.0630 | trn_acc: 0.981 | val_acc: 0.980\n",
      "epoch: 8/20 | trn loss: 0.0548 | val loss: 0.0516 | trn_acc: 0.983 | val_acc: 0.984\n",
      "epoch: 9/20 | trn loss: 0.0500 | val loss: 0.0593 | trn_acc: 0.985 | val_acc: 0.981\n",
      "epoch: 10/20 | trn loss: 0.0449 | val loss: 0.0449 | trn_acc: 0.986 | val_acc: 0.985\n",
      "epoch: 11/20 | trn loss: 0.0401 | val loss: 0.0415 | trn_acc: 0.987 | val_acc: 0.987\n",
      "epoch: 12/20 | trn loss: 0.0399 | val loss: 0.0441 | trn_acc: 0.988 | val_acc: 0.986\n",
      "epoch: 13/20 | trn loss: 0.0348 | val loss: 0.0401 | trn_acc: 0.989 | val_acc: 0.987\n",
      "epoch: 14/20 | trn loss: 0.0315 | val loss: 0.0357 | trn_acc: 0.990 | val_acc: 0.988\n",
      "epoch: 15/20 | trn loss: 0.0284 | val loss: 0.0408 | trn_acc: 0.991 | val_acc: 0.988\n",
      "epoch: 16/20 | trn loss: 0.0276 | val loss: 0.0449 | trn_acc: 0.991 | val_acc: 0.986\n",
      "epoch: 17/20 | trn loss: 0.0248 | val loss: 0.0479 | trn_acc: 0.992 | val_acc: 0.986\n",
      "epoch: 18/20 | trn loss: 0.0237 | val loss: 0.0350 | trn_acc: 0.992 | val_acc: 0.989\n",
      "epoch: 19/20 | trn loss: 0.0205 | val loss: 0.0340 | trn_acc: 0.993 | val_acc: 0.988\n",
      "epoch: 20/20 | trn loss: 0.0210 | val loss: 0.0337 | trn_acc: 0.993 | val_acc: 0.990\n"
     ]
    }
   ],
   "source": [
    "import numpy as np\n",
    "from torch.nn import CrossEntropyLoss\n",
    "from torch.optim import Adam\n",
    "from torch import save\n",
    "from torch.utils.tensorboard import SummaryWriter\n",
    "from NN.LeNet import LeNet\n",
    "\n",
    "learning_rate = 1e-3\n",
    "num_epoch = 20\n",
    "net =LeNet().cuda()\n",
    "\n",
    "criterion = CrossEntropyLoss()\n",
    "optimizer =Adam(net.parameters(), lr=learning_rate)\n",
    "\n",
    "summary = SummaryWriter(log_dir=\"runs/LeNet01\")\n",
    "\n",
    "\n",
    "trn_loss_list = []\n",
    "val_loss_list = []\n",
    "trn_size = len(trn_dataset)\n",
    "val_size = len(val_dataset)\n",
    "best_val_loss = float('inf')\n",
    "for epoch in range(num_epoch):\n",
    "    trn_loss = 0\n",
    "    trn_acc =0\n",
    "    net.train()\n",
    "    for _, (x,label) in enumerate(trn_loader):\n",
    "        x, label = x.cuda(), label.cuda()\n",
    "        optimizer.zero_grad()\n",
    "        pred = net(x)\n",
    "        loss = criterion(pred, label)\n",
    "        loss.backward()\n",
    "        optimizer.step()\n",
    "        \n",
    "        trn_loss += loss.item()\n",
    "        pred,label = pred.cpu().detach().numpy(),label.cpu().detach().numpy()\n",
    "        trn_acc += np.sum(np.argmax(pred,axis=1)==label)\n",
    "        # del(memory saved)\n",
    "        del loss,pred\n",
    "        \n",
    "    trn_loss/=len(trn_loader)\n",
    "    trn_acc/=trn_size\n",
    "    \n",
    "    val_loss= 0\n",
    "    val_acc=0\n",
    "    net.eval()\n",
    "    for _, (x,label) in enumerate(val_loader):\n",
    "        x, label = x.cuda(), label.cuda()\n",
    "        \n",
    "        pred = net(x)\n",
    "        loss = criterion(pred, label)\n",
    "        \n",
    "        val_loss += loss.item()\n",
    "        pred,label = pred.cpu().detach().numpy(),label.cpu().detach().numpy()\n",
    "        val_acc += np.sum(np.argmax(pred,axis=1)==label)\n",
    "        del loss,pred\n",
    "    val_loss/=len(val_loader)\n",
    "    val_acc/=val_size\n",
    "    print(\"epoch: {}/{} | trn loss: {:.4f} | val loss: {:.4f} | trn_acc: {:.3f} | val_acc: {:.3f}\".format(\n",
    "                epoch+1, num_epoch, trn_loss, val_loss, trn_acc, val_acc))\n",
    "    if val_loss<best_val_loss:\n",
    "        save(net.state_dict(),'./Model/LeNet.pth')\n",
    "    summary.add_scalars('loss',{'valid':val_loss, 'train':trn_loss},epoch)    \n",
    "    summary.add_scalars('acc',{'valid':val_acc, 'train':trn_acc},epoch)\n"
   ]
  },
  {
   "cell_type": "code",
   "execution_count": 26,
   "metadata": {},
   "outputs": [
    {
     "name": "stdout",
     "output_type": "stream",
     "text": [
      "pred:7,true:7\n"
     ]
    },
    {
     "data": {
      "image/png": "[encoded data removed]",
      "text/plain": [
       "<Figure size 432x288 with 1 Axes>"
      ]
     },
     "metadata": {
      "needs_background": "light"
     },
     "output_type": "display_data"
    }
   ],
   "source": [
    "from torch import load\n",
    "net = LeNet()\n",
    "net.load_state_dict(load('Model/LeNet.pth'))\n",
    "dataiter= iter(val_loader)\n",
    "image, label = dataiter.next()\n",
    "image, label  = image[0],label[0]\n",
    "plt.imshow(image.reshape(32,32))\n",
    "image = image.reshape(1,1,32,32)\n",
    "net.eval()\n",
    "print(f\"pred:{label.item()},true:{np.argmax(net(image).cpu().detach().numpy())}\")\n"
   ]
  },
  {
   "cell_type": "code",
   "execution_count": null,
   "metadata": {},
   "outputs": [],
   "source": [
    "#%load_ext tensorboard\n",
    "#%tensorboard --logdir=/runs"
   ]
  }
 ],
 "metadata": {
  "kernelspec": {
   "display_name": "Python 3",
   "language": "python",
   "name": "python3"
  },
  "language_info": {
   "codemirror_mode": {
    "name": "ipython",
    "version": 3
   },
   "file_extension": ".py",
   "mimetype": "text/x-python",
   "name": "python",
   "nbconvert_exporter": "python",
   "pygments_lexer": "ipython3",
   "version": "3.8.2"
  }
 },
 "nbformat": 4,
 "nbformat_minor": 4
}
